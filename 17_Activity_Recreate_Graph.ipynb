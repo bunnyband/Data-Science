{
  "nbformat": 4,
  "nbformat_minor": 0,
  "metadata": {
    "anaconda-cloud": {},
    "celltoolbar": "Slideshow",
    "kernelspec": {
      "display_name": "Python 3",
      "language": "python",
      "name": "python3"
    },
    "language_info": {
      "codemirror_mode": {
        "name": "ipython",
        "version": 3
      },
      "file_extension": ".py",
      "mimetype": "text/x-python",
      "name": "python",
      "nbconvert_exporter": "python",
      "pygments_lexer": "ipython3",
      "version": "3.7.6"
    },
    "colab": {
      "name": "17 - Activity Recreate Graph.ipynb",
      "provenance": [],
      "collapsed_sections": [],
      "include_colab_link": true
    }
  },
  "cells": [
    {
      "cell_type": "markdown",
      "metadata": {
        "id": "view-in-github",
        "colab_type": "text"
      },
      "source": [
        "<a href=\"https://colab.research.google.com/github/bunnyband/sales-predictions/blob/main/17_Activity_Recreate_Graph.ipynb\" target=\"_parent\"><img src=\"https://colab.research.google.com/assets/colab-badge.svg\" alt=\"Open In Colab\"/></a>"
      ]
    },
    {
      "cell_type": "markdown",
      "source": [
        "# Recreate Graph"
      ],
      "metadata": {
        "id": "hGHYMy3YqBSV"
      }
    },
    {
      "cell_type": "markdown",
      "metadata": {
        "id": "gpHdSjjTe4kJ"
      },
      "source": [
        "## Task\n",
        "The dataset given to you [here](https://drive.google.com/file/d/1r86JMCPftaxI-JUF4GFUqBlmcHHhc7X-/view) is the mortgage dataset used previously in this course. Your goal is to reproduce the graph. The black plot is the 30 year mortgage at 5% and the blue line is the 30 year mortgage at 3%. What is graphed is the cumulative interest paid over the course of the loan. Note that this isn't a beautiful graph. It doesn't say which line is for which mortgage and the graph itself isn't the most visually appealing graph. These are the sort of things that are covered throughout the course. \n",
        "\n",
        "Use Python to recreate this graph:\n",
        "\n",
        "![](https://s3.amazonaws.com/General_V88/boomyeah2015/codingdojo/curriculum/content/chapter/Screen_Shot_2020-09-04_at_11.08.51_AM.png)"
      ]
    },
    {
      "cell_type": "markdown",
      "source": [
        "## Initialization and Dataset Loading"
      ],
      "metadata": {
        "id": "neUeMWS6r8Qo"
      }
    },
    {
      "cell_type": "code",
      "metadata": {
        "colab": {
          "base_uri": "https://localhost:8080/"
        },
        "id": "b1av_0qFgKF3",
        "outputId": "b8a0fc79-132f-4d99-93fd-03a2042f5df9"
      },
      "source": [
        "# mount data\n",
        "from google.colab import drive\n",
        "drive.mount('/content/drive')"
      ],
      "execution_count": null,
      "outputs": [
        {
          "output_type": "stream",
          "name": "stdout",
          "text": [
            "Drive already mounted at /content/drive; to attempt to forcibly remount, call drive.mount(\"/content/drive\", force_remount=True).\n"
          ]
        }
      ]
    },
    {
      "cell_type": "code",
      "metadata": {
        "id": "ns1Jr_uPmyaf"
      },
      "source": [
        "# import libraries\n",
        "import matplotlib.pyplot as plt\n",
        "import pandas as pd\n",
        "import seaborn as sns"
      ],
      "execution_count": null,
      "outputs": []
    },
    {
      "cell_type": "code",
      "metadata": {
        "colab": {
          "base_uri": "https://localhost:8080/",
          "height": 206
        },
        "id": "r2mgKK_je369",
        "outputId": "0664eb92-7c3e-47d1-ccb7-1b432e6fe958"
      },
      "source": [
        "# load the dataset\n",
        "df = pd.read_csv('/content/drive/MyDrive/mortgages.csv')\n",
        "df.head()"
      ],
      "execution_count": null,
      "outputs": [
        {
          "output_type": "execute_result",
          "data": {
            "text/html": [
              "\n",
              "  <div id=\"df-7ccc8565-f9dd-4f57-9bbb-1ebe17fb39f1\">\n",
              "    <div class=\"colab-df-container\">\n",
              "      <div>\n",
              "<style scoped>\n",
              "    .dataframe tbody tr th:only-of-type {\n",
              "        vertical-align: middle;\n",
              "    }\n",
              "\n",
              "    .dataframe tbody tr th {\n",
              "        vertical-align: top;\n",
              "    }\n",
              "\n",
              "    .dataframe thead th {\n",
              "        text-align: right;\n",
              "    }\n",
              "</style>\n",
              "<table border=\"1\" class=\"dataframe\">\n",
              "  <thead>\n",
              "    <tr style=\"text-align: right;\">\n",
              "      <th></th>\n",
              "      <th>Month</th>\n",
              "      <th>Starting Balance</th>\n",
              "      <th>Repayment</th>\n",
              "      <th>Interest Paid</th>\n",
              "      <th>Principal Paid</th>\n",
              "      <th>New Balance</th>\n",
              "      <th>Mortgage Name</th>\n",
              "      <th>Interest Rate</th>\n",
              "    </tr>\n",
              "  </thead>\n",
              "  <tbody>\n",
              "    <tr>\n",
              "      <th>0</th>\n",
              "      <td>1</td>\n",
              "      <td>400000.00</td>\n",
              "      <td>1686.42</td>\n",
              "      <td>1000.00</td>\n",
              "      <td>686.42</td>\n",
              "      <td>399313.58</td>\n",
              "      <td>30 Year</td>\n",
              "      <td>0.03</td>\n",
              "    </tr>\n",
              "    <tr>\n",
              "      <th>1</th>\n",
              "      <td>2</td>\n",
              "      <td>399313.58</td>\n",
              "      <td>1686.42</td>\n",
              "      <td>998.28</td>\n",
              "      <td>688.14</td>\n",
              "      <td>398625.44</td>\n",
              "      <td>30 Year</td>\n",
              "      <td>0.03</td>\n",
              "    </tr>\n",
              "    <tr>\n",
              "      <th>2</th>\n",
              "      <td>3</td>\n",
              "      <td>398625.44</td>\n",
              "      <td>1686.42</td>\n",
              "      <td>996.56</td>\n",
              "      <td>689.86</td>\n",
              "      <td>397935.58</td>\n",
              "      <td>30 Year</td>\n",
              "      <td>0.03</td>\n",
              "    </tr>\n",
              "    <tr>\n",
              "      <th>3</th>\n",
              "      <td>4</td>\n",
              "      <td>397935.58</td>\n",
              "      <td>1686.42</td>\n",
              "      <td>994.83</td>\n",
              "      <td>691.59</td>\n",
              "      <td>397243.99</td>\n",
              "      <td>30 Year</td>\n",
              "      <td>0.03</td>\n",
              "    </tr>\n",
              "    <tr>\n",
              "      <th>4</th>\n",
              "      <td>5</td>\n",
              "      <td>397243.99</td>\n",
              "      <td>1686.42</td>\n",
              "      <td>993.10</td>\n",
              "      <td>693.32</td>\n",
              "      <td>396550.67</td>\n",
              "      <td>30 Year</td>\n",
              "      <td>0.03</td>\n",
              "    </tr>\n",
              "  </tbody>\n",
              "</table>\n",
              "</div>\n",
              "      <button class=\"colab-df-convert\" onclick=\"convertToInteractive('df-7ccc8565-f9dd-4f57-9bbb-1ebe17fb39f1')\"\n",
              "              title=\"Convert this dataframe to an interactive table.\"\n",
              "              style=\"display:none;\">\n",
              "        \n",
              "  <svg xmlns=\"http://www.w3.org/2000/svg\" height=\"24px\"viewBox=\"0 0 24 24\"\n",
              "       width=\"24px\">\n",
              "    <path d=\"M0 0h24v24H0V0z\" fill=\"none\"/>\n",
              "    <path d=\"M18.56 5.44l.94 2.06.94-2.06 2.06-.94-2.06-.94-.94-2.06-.94 2.06-2.06.94zm-11 1L8.5 8.5l.94-2.06 2.06-.94-2.06-.94L8.5 2.5l-.94 2.06-2.06.94zm10 10l.94 2.06.94-2.06 2.06-.94-2.06-.94-.94-2.06-.94 2.06-2.06.94z\"/><path d=\"M17.41 7.96l-1.37-1.37c-.4-.4-.92-.59-1.43-.59-.52 0-1.04.2-1.43.59L10.3 9.45l-7.72 7.72c-.78.78-.78 2.05 0 2.83L4 21.41c.39.39.9.59 1.41.59.51 0 1.02-.2 1.41-.59l7.78-7.78 2.81-2.81c.8-.78.8-2.07 0-2.86zM5.41 20L4 18.59l7.72-7.72 1.47 1.35L5.41 20z\"/>\n",
              "  </svg>\n",
              "      </button>\n",
              "      \n",
              "  <style>\n",
              "    .colab-df-container {\n",
              "      display:flex;\n",
              "      flex-wrap:wrap;\n",
              "      gap: 12px;\n",
              "    }\n",
              "\n",
              "    .colab-df-convert {\n",
              "      background-color: #E8F0FE;\n",
              "      border: none;\n",
              "      border-radius: 50%;\n",
              "      cursor: pointer;\n",
              "      display: none;\n",
              "      fill: #1967D2;\n",
              "      height: 32px;\n",
              "      padding: 0 0 0 0;\n",
              "      width: 32px;\n",
              "    }\n",
              "\n",
              "    .colab-df-convert:hover {\n",
              "      background-color: #E2EBFA;\n",
              "      box-shadow: 0px 1px 2px rgba(60, 64, 67, 0.3), 0px 1px 3px 1px rgba(60, 64, 67, 0.15);\n",
              "      fill: #174EA6;\n",
              "    }\n",
              "\n",
              "    [theme=dark] .colab-df-convert {\n",
              "      background-color: #3B4455;\n",
              "      fill: #D2E3FC;\n",
              "    }\n",
              "\n",
              "    [theme=dark] .colab-df-convert:hover {\n",
              "      background-color: #434B5C;\n",
              "      box-shadow: 0px 1px 3px 1px rgba(0, 0, 0, 0.15);\n",
              "      filter: drop-shadow(0px 1px 2px rgba(0, 0, 0, 0.3));\n",
              "      fill: #FFFFFF;\n",
              "    }\n",
              "  </style>\n",
              "\n",
              "      <script>\n",
              "        const buttonEl =\n",
              "          document.querySelector('#df-7ccc8565-f9dd-4f57-9bbb-1ebe17fb39f1 button.colab-df-convert');\n",
              "        buttonEl.style.display =\n",
              "          google.colab.kernel.accessAllowed ? 'block' : 'none';\n",
              "\n",
              "        async function convertToInteractive(key) {\n",
              "          const element = document.querySelector('#df-7ccc8565-f9dd-4f57-9bbb-1ebe17fb39f1');\n",
              "          const dataTable =\n",
              "            await google.colab.kernel.invokeFunction('convertToInteractive',\n",
              "                                                     [key], {});\n",
              "          if (!dataTable) return;\n",
              "\n",
              "          const docLinkHtml = 'Like what you see? Visit the ' +\n",
              "            '<a target=\"_blank\" href=https://colab.research.google.com/notebooks/data_table.ipynb>data table notebook</a>'\n",
              "            + ' to learn more about interactive tables.';\n",
              "          element.innerHTML = '';\n",
              "          dataTable['output_type'] = 'display_data';\n",
              "          await google.colab.output.renderOutput(dataTable, element);\n",
              "          const docLink = document.createElement('div');\n",
              "          docLink.innerHTML = docLinkHtml;\n",
              "          element.appendChild(docLink);\n",
              "        }\n",
              "      </script>\n",
              "    </div>\n",
              "  </div>\n",
              "  "
            ],
            "text/plain": [
              "   Month  Starting Balance  Repayment  Interest Paid  Principal Paid  \\\n",
              "0      1         400000.00    1686.42        1000.00          686.42   \n",
              "1      2         399313.58    1686.42         998.28          688.14   \n",
              "2      3         398625.44    1686.42         996.56          689.86   \n",
              "3      4         397935.58    1686.42         994.83          691.59   \n",
              "4      5         397243.99    1686.42         993.10          693.32   \n",
              "\n",
              "   New Balance Mortgage Name  Interest Rate  \n",
              "0    399313.58       30 Year           0.03  \n",
              "1    398625.44       30 Year           0.03  \n",
              "2    397935.58       30 Year           0.03  \n",
              "3    397243.99       30 Year           0.03  \n",
              "4    396550.67       30 Year           0.03  "
            ]
          },
          "metadata": {},
          "execution_count": 3
        }
      ]
    },
    {
      "cell_type": "code",
      "source": [
        "from google.colab import drive\n",
        "drive.mount('/content/drive')"
      ],
      "metadata": {
        "colab": {
          "base_uri": "https://localhost:8080/"
        },
        "id": "vVmInu4r3vzU",
        "outputId": "79fcadff-a9ef-4bdc-e901-79c9bb58040e"
      },
      "execution_count": null,
      "outputs": [
        {
          "output_type": "stream",
          "name": "stdout",
          "text": [
            "Drive already mounted at /content/drive; to attempt to forcibly remount, call drive.mount(\"/content/drive\", force_remount=True).\n"
          ]
        }
      ]
    },
    {
      "cell_type": "markdown",
      "source": [
        "## Questions and Soliutions"
      ],
      "metadata": {
        "id": "iCI7j3aLsDTc"
      }
    },
    {
      "cell_type": "markdown",
      "source": [
        "1. Create a filter so the Mortgage Name is '30 Year'.  Use the len() to find how many rows correspond to 30 years."
      ],
      "metadata": {
        "id": "PshJ8DiDrU5g"
      }
    },
    {
      "cell_type": "code",
      "source": [
        "mortgageFilter = df['Mortgage Name'] == '30 Year'\n",
        "mortgageFilter"
      ],
      "metadata": {
        "id": "h6joq5-BsGEu",
        "colab": {
          "base_uri": "https://localhost:8080/"
        },
        "outputId": "fa2f3d55-733b-482f-8090-b45565bedc5d"
      },
      "execution_count": null,
      "outputs": [
        {
          "output_type": "execute_result",
          "data": {
            "text/plain": [
              "0        True\n",
              "1        True\n",
              "2        True\n",
              "3        True\n",
              "4        True\n",
              "        ...  \n",
              "1075    False\n",
              "1076    False\n",
              "1077    False\n",
              "1078    False\n",
              "1079    False\n",
              "Name: Mortgage Name, Length: 1080, dtype: bool"
            ]
          },
          "metadata": {},
          "execution_count": 5
        }
      ]
    },
    {
      "cell_type": "code",
      "source": [
        "import numpy as np\n",
        "np.count_nonzero(mortgageFilter)"
      ],
      "metadata": {
        "colab": {
          "base_uri": "https://localhost:8080/"
        },
        "id": "_GgBJrG1-xyN",
        "outputId": "fac02a1a-0bbb-4c8e-a815-8792b90670d2"
      },
      "execution_count": null,
      "outputs": [
        {
          "output_type": "execute_result",
          "data": {
            "text/plain": [
              "720"
            ]
          },
          "metadata": {},
          "execution_count": 6
        }
      ]
    },
    {
      "cell_type": "markdown",
      "source": [
        "2. Create a filter for an interest rate of 3% (notice how it is written in the data!)."
      ],
      "metadata": {
        "id": "Oj_Nusq-rfQi"
      }
    },
    {
      "cell_type": "code",
      "source": [
        "interestFilter = df['Interest Rate'] == 0.03"
      ],
      "metadata": {
        "id": "XQhHrcXhsGxb"
      },
      "execution_count": null,
      "outputs": []
    },
    {
      "cell_type": "markdown",
      "source": [
        "3. Define a new dataframe based on both the year and the interest filters you have created."
      ],
      "metadata": {
        "id": "WToKoy2irk8U"
      }
    },
    {
      "cell_type": "code",
      "source": [
        "mortgage30_03 = df.loc[mortgageFilter & interestFilter, : ]"
      ],
      "metadata": {
        "id": "tMzyJm_KsHMr"
      },
      "execution_count": null,
      "outputs": []
    },
    {
      "cell_type": "markdown",
      "source": [
        "4. We have a choice for the 5% interest rate:\n",
        "\n",
        "We can just create another filter where df.['Interest Rate'] == .05 \n",
        "\n",
        "OR \n",
        "\n",
        "We can use the negate symbol (~) with our current filter to give us everything EXCEPT what we have defined in the filter. This works here because we only have two interest rates (any value that is NOT 3% is 5%)"
      ],
      "metadata": {
        "id": "PxltJW_OrmFz"
      }
    },
    {
      "cell_type": "code",
      "source": [
        "mortgage30_05 = df.loc[mortgageFilter & ~interestFilter,: ]\n",
        "mortgage30_05"
      ],
      "metadata": {
        "id": "nuYdAnFhsH7t",
        "colab": {
          "base_uri": "https://localhost:8080/",
          "height": 423
        },
        "outputId": "85e5a7df-221a-44d6-ac6e-d3b2bf854c18"
      },
      "execution_count": null,
      "outputs": [
        {
          "output_type": "execute_result",
          "data": {
            "text/html": [
              "\n",
              "  <div id=\"df-dd566cce-3b06-4be3-a928-4f2783fc05cc\">\n",
              "    <div class=\"colab-df-container\">\n",
              "      <div>\n",
              "<style scoped>\n",
              "    .dataframe tbody tr th:only-of-type {\n",
              "        vertical-align: middle;\n",
              "    }\n",
              "\n",
              "    .dataframe tbody tr th {\n",
              "        vertical-align: top;\n",
              "    }\n",
              "\n",
              "    .dataframe thead th {\n",
              "        text-align: right;\n",
              "    }\n",
              "</style>\n",
              "<table border=\"1\" class=\"dataframe\">\n",
              "  <thead>\n",
              "    <tr style=\"text-align: right;\">\n",
              "      <th></th>\n",
              "      <th>Month</th>\n",
              "      <th>Starting Balance</th>\n",
              "      <th>Repayment</th>\n",
              "      <th>Interest Paid</th>\n",
              "      <th>Principal Paid</th>\n",
              "      <th>New Balance</th>\n",
              "      <th>Mortgage Name</th>\n",
              "      <th>Interest Rate</th>\n",
              "    </tr>\n",
              "  </thead>\n",
              "  <tbody>\n",
              "    <tr>\n",
              "      <th>360</th>\n",
              "      <td>1</td>\n",
              "      <td>400000.00</td>\n",
              "      <td>2147.29</td>\n",
              "      <td>1666.66</td>\n",
              "      <td>480.63</td>\n",
              "      <td>399519.37</td>\n",
              "      <td>30 Year</td>\n",
              "      <td>0.05</td>\n",
              "    </tr>\n",
              "    <tr>\n",
              "      <th>361</th>\n",
              "      <td>2</td>\n",
              "      <td>399519.37</td>\n",
              "      <td>2147.29</td>\n",
              "      <td>1664.66</td>\n",
              "      <td>482.63</td>\n",
              "      <td>399036.74</td>\n",
              "      <td>30 Year</td>\n",
              "      <td>0.05</td>\n",
              "    </tr>\n",
              "    <tr>\n",
              "      <th>362</th>\n",
              "      <td>3</td>\n",
              "      <td>399036.74</td>\n",
              "      <td>2147.29</td>\n",
              "      <td>1662.65</td>\n",
              "      <td>484.64</td>\n",
              "      <td>398552.10</td>\n",
              "      <td>30 Year</td>\n",
              "      <td>0.05</td>\n",
              "    </tr>\n",
              "    <tr>\n",
              "      <th>363</th>\n",
              "      <td>4</td>\n",
              "      <td>398552.10</td>\n",
              "      <td>2147.29</td>\n",
              "      <td>1660.63</td>\n",
              "      <td>486.66</td>\n",
              "      <td>398065.44</td>\n",
              "      <td>30 Year</td>\n",
              "      <td>0.05</td>\n",
              "    </tr>\n",
              "    <tr>\n",
              "      <th>364</th>\n",
              "      <td>5</td>\n",
              "      <td>398065.44</td>\n",
              "      <td>2147.29</td>\n",
              "      <td>1658.60</td>\n",
              "      <td>488.69</td>\n",
              "      <td>397576.75</td>\n",
              "      <td>30 Year</td>\n",
              "      <td>0.05</td>\n",
              "    </tr>\n",
              "    <tr>\n",
              "      <th>...</th>\n",
              "      <td>...</td>\n",
              "      <td>...</td>\n",
              "      <td>...</td>\n",
              "      <td>...</td>\n",
              "      <td>...</td>\n",
              "      <td>...</td>\n",
              "      <td>...</td>\n",
              "      <td>...</td>\n",
              "    </tr>\n",
              "    <tr>\n",
              "      <th>715</th>\n",
              "      <td>356</td>\n",
              "      <td>10596.54</td>\n",
              "      <td>2147.29</td>\n",
              "      <td>44.15</td>\n",
              "      <td>2103.14</td>\n",
              "      <td>8493.40</td>\n",
              "      <td>30 Year</td>\n",
              "      <td>0.05</td>\n",
              "    </tr>\n",
              "    <tr>\n",
              "      <th>716</th>\n",
              "      <td>357</td>\n",
              "      <td>8493.40</td>\n",
              "      <td>2147.29</td>\n",
              "      <td>35.38</td>\n",
              "      <td>2111.91</td>\n",
              "      <td>6381.49</td>\n",
              "      <td>30 Year</td>\n",
              "      <td>0.05</td>\n",
              "    </tr>\n",
              "    <tr>\n",
              "      <th>717</th>\n",
              "      <td>358</td>\n",
              "      <td>6381.49</td>\n",
              "      <td>2147.29</td>\n",
              "      <td>26.58</td>\n",
              "      <td>2120.71</td>\n",
              "      <td>4260.78</td>\n",
              "      <td>30 Year</td>\n",
              "      <td>0.05</td>\n",
              "    </tr>\n",
              "    <tr>\n",
              "      <th>718</th>\n",
              "      <td>359</td>\n",
              "      <td>4260.78</td>\n",
              "      <td>2147.29</td>\n",
              "      <td>17.75</td>\n",
              "      <td>2129.54</td>\n",
              "      <td>2131.24</td>\n",
              "      <td>30 Year</td>\n",
              "      <td>0.05</td>\n",
              "    </tr>\n",
              "    <tr>\n",
              "      <th>719</th>\n",
              "      <td>360</td>\n",
              "      <td>2131.24</td>\n",
              "      <td>2147.29</td>\n",
              "      <td>8.88</td>\n",
              "      <td>2138.41</td>\n",
              "      <td>-7.17</td>\n",
              "      <td>30 Year</td>\n",
              "      <td>0.05</td>\n",
              "    </tr>\n",
              "  </tbody>\n",
              "</table>\n",
              "<p>360 rows × 8 columns</p>\n",
              "</div>\n",
              "      <button class=\"colab-df-convert\" onclick=\"convertToInteractive('df-dd566cce-3b06-4be3-a928-4f2783fc05cc')\"\n",
              "              title=\"Convert this dataframe to an interactive table.\"\n",
              "              style=\"display:none;\">\n",
              "        \n",
              "  <svg xmlns=\"http://www.w3.org/2000/svg\" height=\"24px\"viewBox=\"0 0 24 24\"\n",
              "       width=\"24px\">\n",
              "    <path d=\"M0 0h24v24H0V0z\" fill=\"none\"/>\n",
              "    <path d=\"M18.56 5.44l.94 2.06.94-2.06 2.06-.94-2.06-.94-.94-2.06-.94 2.06-2.06.94zm-11 1L8.5 8.5l.94-2.06 2.06-.94-2.06-.94L8.5 2.5l-.94 2.06-2.06.94zm10 10l.94 2.06.94-2.06 2.06-.94-2.06-.94-.94-2.06-.94 2.06-2.06.94z\"/><path d=\"M17.41 7.96l-1.37-1.37c-.4-.4-.92-.59-1.43-.59-.52 0-1.04.2-1.43.59L10.3 9.45l-7.72 7.72c-.78.78-.78 2.05 0 2.83L4 21.41c.39.39.9.59 1.41.59.51 0 1.02-.2 1.41-.59l7.78-7.78 2.81-2.81c.8-.78.8-2.07 0-2.86zM5.41 20L4 18.59l7.72-7.72 1.47 1.35L5.41 20z\"/>\n",
              "  </svg>\n",
              "      </button>\n",
              "      \n",
              "  <style>\n",
              "    .colab-df-container {\n",
              "      display:flex;\n",
              "      flex-wrap:wrap;\n",
              "      gap: 12px;\n",
              "    }\n",
              "\n",
              "    .colab-df-convert {\n",
              "      background-color: #E8F0FE;\n",
              "      border: none;\n",
              "      border-radius: 50%;\n",
              "      cursor: pointer;\n",
              "      display: none;\n",
              "      fill: #1967D2;\n",
              "      height: 32px;\n",
              "      padding: 0 0 0 0;\n",
              "      width: 32px;\n",
              "    }\n",
              "\n",
              "    .colab-df-convert:hover {\n",
              "      background-color: #E2EBFA;\n",
              "      box-shadow: 0px 1px 2px rgba(60, 64, 67, 0.3), 0px 1px 3px 1px rgba(60, 64, 67, 0.15);\n",
              "      fill: #174EA6;\n",
              "    }\n",
              "\n",
              "    [theme=dark] .colab-df-convert {\n",
              "      background-color: #3B4455;\n",
              "      fill: #D2E3FC;\n",
              "    }\n",
              "\n",
              "    [theme=dark] .colab-df-convert:hover {\n",
              "      background-color: #434B5C;\n",
              "      box-shadow: 0px 1px 3px 1px rgba(0, 0, 0, 0.15);\n",
              "      filter: drop-shadow(0px 1px 2px rgba(0, 0, 0, 0.3));\n",
              "      fill: #FFFFFF;\n",
              "    }\n",
              "  </style>\n",
              "\n",
              "      <script>\n",
              "        const buttonEl =\n",
              "          document.querySelector('#df-dd566cce-3b06-4be3-a928-4f2783fc05cc button.colab-df-convert');\n",
              "        buttonEl.style.display =\n",
              "          google.colab.kernel.accessAllowed ? 'block' : 'none';\n",
              "\n",
              "        async function convertToInteractive(key) {\n",
              "          const element = document.querySelector('#df-dd566cce-3b06-4be3-a928-4f2783fc05cc');\n",
              "          const dataTable =\n",
              "            await google.colab.kernel.invokeFunction('convertToInteractive',\n",
              "                                                     [key], {});\n",
              "          if (!dataTable) return;\n",
              "\n",
              "          const docLinkHtml = 'Like what you see? Visit the ' +\n",
              "            '<a target=\"_blank\" href=https://colab.research.google.com/notebooks/data_table.ipynb>data table notebook</a>'\n",
              "            + ' to learn more about interactive tables.';\n",
              "          element.innerHTML = '';\n",
              "          dataTable['output_type'] = 'display_data';\n",
              "          await google.colab.output.renderOutput(dataTable, element);\n",
              "          const docLink = document.createElement('div');\n",
              "          docLink.innerHTML = docLinkHtml;\n",
              "          element.appendChild(docLink);\n",
              "        }\n",
              "      </script>\n",
              "    </div>\n",
              "  </div>\n",
              "  "
            ],
            "text/plain": [
              "     Month  Starting Balance  Repayment  Interest Paid  Principal Paid  \\\n",
              "360      1         400000.00    2147.29        1666.66          480.63   \n",
              "361      2         399519.37    2147.29        1664.66          482.63   \n",
              "362      3         399036.74    2147.29        1662.65          484.64   \n",
              "363      4         398552.10    2147.29        1660.63          486.66   \n",
              "364      5         398065.44    2147.29        1658.60          488.69   \n",
              "..     ...               ...        ...            ...             ...   \n",
              "715    356          10596.54    2147.29          44.15         2103.14   \n",
              "716    357           8493.40    2147.29          35.38         2111.91   \n",
              "717    358           6381.49    2147.29          26.58         2120.71   \n",
              "718    359           4260.78    2147.29          17.75         2129.54   \n",
              "719    360           2131.24    2147.29           8.88         2138.41   \n",
              "\n",
              "     New Balance Mortgage Name  Interest Rate  \n",
              "360    399519.37       30 Year           0.05  \n",
              "361    399036.74       30 Year           0.05  \n",
              "362    398552.10       30 Year           0.05  \n",
              "363    398065.44       30 Year           0.05  \n",
              "364    397576.75       30 Year           0.05  \n",
              "..           ...           ...            ...  \n",
              "715      8493.40       30 Year           0.05  \n",
              "716      6381.49       30 Year           0.05  \n",
              "717      4260.78       30 Year           0.05  \n",
              "718      2131.24       30 Year           0.05  \n",
              "719        -7.17       30 Year           0.05  \n",
              "\n",
              "[360 rows x 8 columns]"
            ]
          },
          "metadata": {},
          "execution_count": 9
        }
      ]
    },
    {
      "cell_type": "markdown",
      "source": [
        "5. Since we want to graph the cumulative sum of the interest paid, you can use the function .cumsum().  What are the first three values in the output for the cumulative sum of the 3% rate?"
      ],
      "metadata": {
        "id": "2oYfYZY6rmY6"
      }
    },
    {
      "cell_type": "code",
      "source": [
        "z = mortgage30_03['Interest Paid'].cumsum()\n",
        "\n",
        "z"
      ],
      "metadata": {
        "colab": {
          "base_uri": "https://localhost:8080/"
        },
        "id": "BR2H8sBa_F3o",
        "outputId": "6f658833-708a-4e8d-95f0-cfb8db72a464"
      },
      "execution_count": null,
      "outputs": [
        {
          "output_type": "execute_result",
          "data": {
            "text/plain": [
              "0        1000.00\n",
              "1        1998.28\n",
              "2        2994.84\n",
              "3        3989.67\n",
              "4        4982.77\n",
              "         ...    \n",
              "355    207064.13\n",
              "356    207080.87\n",
              "357    207093.44\n",
              "358    207101.82\n",
              "359    207106.01\n",
              "Name: Interest Paid, Length: 360, dtype: float64"
            ]
          },
          "metadata": {},
          "execution_count": 10
        }
      ]
    },
    {
      "cell_type": "markdown",
      "source": [
        "6. Use plt.plot(x, y, c=color) to plot the black line (5%).  We want the x values to be the ['Month'] and the y values to be the cumulative sum of the Interest Paid.  You can use the code from the previous question to define your y values within the plt.plot() function!  Hint: for black, c = 'k'"
      ],
      "metadata": {
        "id": "tSJyP2-Grmkh"
      }
    },
    {
      "cell_type": "code",
      "source": [
        "plt.figure(figsize =(20, 10))\n",
        "\n",
        "plt.xlabel('Month', fontsize = 16)\n",
        "plt.ylabel('Interest Paid', fontsize = 20)\n",
        "plt.xlim(left=0,right=375)\n",
        "plt.ylim(bottom=0,top=400000)\n",
        "plt.xticks(rotation = 90)\n",
        "\n",
        "plt.title('Month Vs Interest', fontsize = 16)\n",
        "\n",
        "\n",
        "plt.grid(c = 'blue', alpha = 0.5)\n",
        "\n",
        "\n",
        "plt.plot(mortgage30_05['Month'], mortgage30_05['Interest Paid'].cumsum(), c = 'red', label = 'Label')\n",
        "\n",
        "plt.legend(loc=\"center right\", fontsize = 20)"
      ],
      "metadata": {
        "id": "aqoUAoFJsJJz",
        "colab": {
          "base_uri": "https://localhost:8080/",
          "height": 655
        },
        "outputId": "a5782941-9295-4065-e442-b454ebe3df4e"
      },
      "execution_count": null,
      "outputs": [
        {
          "output_type": "execute_result",
          "data": {
            "text/plain": [
              "<matplotlib.legend.Legend at 0x7f93b8904d10>"
            ]
          },
          "metadata": {},
          "execution_count": 11
        },
        {
          "output_type": "display_data",
          "data": {
            "image/png": "[encoded data removed]",
            "text/plain": [
              "<Figure size 1440x720 with 1 Axes>"
            ]
          },
          "metadata": {
            "needs_background": "light"
          }
        }
      ]
    },
    {
      "cell_type": "markdown",
      "source": [
        "7. To get both lines on the same graph, just put two plt.plot() functions one after the other in same code block and run it!\n",
        "\n",
        "Submit your code and reproduced graph! Hint: for blue, c = 'b'"
      ],
      "metadata": {
        "id": "c-ZWc7IPrmxr"
      }
    },
    {
      "cell_type": "code",
      "metadata": {
        "colab": {
          "base_uri": "https://localhost:8080/",
          "height": 592
        },
        "id": "grgUw3h7iDSo",
        "outputId": "b60543bc-5600-4f98-ad53-2743b615936e"
      },
      "source": [
        "fig, axes = plt.subplots(nrows = 1, ncols = 1, figsize=(20, 10) )\n",
        "axes.plot(mortgage30_03['Month'], mortgage30_03['Interest Paid'].cumsum(), c = 'b');\n",
        "axes.plot(mortgage30_05['Month'], mortgage30_05['Interest Paid'].cumsum(), c = 'k');\n",
        "\n"
      ],
      "execution_count": null,
      "outputs": [
        {
          "output_type": "display_data",
          "data": {
            "image/png": "[encoded data removed]",
            "text/plain": [
              "<Figure size 1440x720 with 1 Axes>"
            ]
          },
          "metadata": {
            "needs_background": "light"
          }
        }
      ]
    },
    {
      "cell_type": "code",
      "source": [
        "plt.figure(figsize =(20, 10))\n",
        "\n",
        "plt.xlabel('Month', fontsize = 16)\n",
        "plt.ylabel('Interest Paid', fontsize = 20)\n",
        "plt.xlim(left=0,right=375)\n",
        "plt.ylim(bottom=0,top=400000)\n",
        "plt.xticks(rotation = 90)\n",
        "\n",
        "plt.title('Month Vs Interest', fontsize = 16)\n",
        "\n",
        "\n",
        "plt.grid(c = 'black', alpha = 1)\n",
        "\n",
        "plt.plot(mortgage30_03['Month'], mortgage30_03['Interest Paid'].cumsum(), c = 'red', label = '30 Years at 3%');\n",
        "plt.plot(mortgage30_05['Month'], mortgage30_05['Interest Paid'].cumsum(), c = 'b', label = '30 Years at 5%');\n",
        "\n",
        "plt.legend(loc=\"lower right\", fontsize = 16)\n",
        "\n",
        "plt.savefig('Graph.png', dpi = 1200)"
      ],
      "metadata": {
        "colab": {
          "base_uri": "https://localhost:8080/",
          "height": 636
        },
        "id": "JhvQMrqAAkVT",
        "outputId": "79c79f64-969e-42d9-829f-a725ffd5b8b5"
      },
      "execution_count": null,
      "outputs": [
        {
          "output_type": "display_data",
          "data": {
            "image/png": "[encoded data removed]",
            "text/plain": [
              "<Figure size 1440x720 with 1 Axes>"
            ]
          },
          "metadata": {
            "needs_background": "light"
          }
        }
      ]
    }
  ]
}