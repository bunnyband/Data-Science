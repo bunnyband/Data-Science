{
  "nbformat": 4,
  "nbformat_minor": 0,
  "metadata": {
    "colab": {
      "name": "Belt Exam 2 - Drug Type.ipynb",
      "provenance": [],
      "collapsed_sections": [],
      "toc_visible": true,
      "authorship_tag": "ABX9TyOY23+MJdfzm4RBwEERDfLC",
      "include_colab_link": true
    },
    "kernelspec": {
      "name": "python3",
      "display_name": "Python 3"
    },
    "language_info": {
      "name": "python"
    }
  },
  "cells": [
    {
      "cell_type": "markdown",
      "metadata": {
        "id": "view-in-github",
        "colab_type": "text"
      },
      "source": [
        "<a href=\"https://colab.research.google.com/github/bunnyband/Data-Science/blob/main/Belt_Exam_2_Drug_Type.ipynb\" target=\"_parent\"><img src=\"https://colab.research.google.com/assets/colab-badge.svg\" alt=\"Open In Colab\"/></a>"
      ]
    },
    {
      "cell_type": "markdown",
      "source": [
        "##### Import Necessary Libraries"
      ],
      "metadata": {
        "id": "KeUVnqR5sJMa"
      }
    },
    {
      "cell_type": "code",
      "execution_count": null,
      "metadata": {
        "colab": {
          "base_uri": "https://localhost:8080/"
        },
        "id": "lSFY3cwPrFnT",
        "outputId": "59111fcf-1178-4fe6-be02-483173934325"
      },
      "outputs": [
        {
          "output_type": "stream",
          "name": "stdout",
          "text": [
            "Drive already mounted at /content/drive; to attempt to forcibly remount, call drive.mount(\"/content/drive\", force_remount=True).\n"
          ]
        }
      ],
      "source": [
        "# Import Google Drive\n",
        "\n",
        "from google.colab import drive\n",
        "drive.mount('/content/drive')"
      ]
    },
    {
      "cell_type": "code",
      "source": [
        "# Import Data Manipulation Libraries\n",
        "\n",
        "import pandas as pd\n",
        "import numpy as np\n",
        "\n",
        "# Import Data Visualization Libraries\n",
        "\n",
        "import matplotlib.pyplot as plt\n",
        "import seaborn as sns\n",
        "\n",
        "# Import Machine Learning Libraries\n",
        "\n",
        "from sklearn.model_selection import train_test_split\n",
        "from sklearn.preprocessing import StandardScaler, OneHotEncoder\n",
        "from sklearn.impute import SimpleImputer\n",
        "from sklearn.compose import make_column_transformer, make_column_selector\n",
        "from sklearn.pipeline import make_pipeline\n",
        "from sklearn import set_config\n",
        "from sklearn import metrics\n",
        "set_config(display='diagram')\n",
        "\n",
        "# Import Classification Libraries\n",
        "from sklearn.ensemble import RandomForestClassifier\n",
        "from sklearn.neighbors import KNeighborsClassifier\n",
        "\n",
        "# Import Score and Confusion Matrix Libraries\n",
        "\n",
        "from sklearn.metrics import accuracy_score, precision_score, recall_score, classification_report, plot_confusion_matrix, confusion_matrix"
      ],
      "metadata": {
        "id": "qa1sEQEsrd8B"
      },
      "execution_count": null,
      "outputs": []
    },
    {
      "cell_type": "markdown",
      "source": [
        "##### Exploring the Data Set"
      ],
      "metadata": {
        "id": "q3WS-n3ZsNK0"
      }
    },
    {
      "cell_type": "code",
      "source": [
        "# Display Data Set\n",
        "filename = ('/content/drive/MyDrive/datasets/Belt2_A_drugtype_v2_final.csv')\n",
        "df = pd.read_csv(filename)\n",
        "df"
      ],
      "metadata": {
        "colab": {
          "base_uri": "https://localhost:8080/",
          "height": 424
        },
        "id": "dB1KFcM8sG6T",
        "outputId": "3af9f558-be78-4db1-aa1c-53a7a1326e43"
      },
      "execution_count": null,
      "outputs": [
        {
          "output_type": "execute_result",
          "data": {
            "text/plain": [
              "      Age Gender      BP Cholesterol Na_to_K   Drug\n",
              "0    59.0      M    High        HIGH  13.935  drugQ\n",
              "1    40.0      F  Normal        HIGH  10.103  drugZ\n",
              "2     NaN      M  Normal        HIGH   9.084  drugZ\n",
              "3    62.0      M  Normal        HIGH  16.594  drugZ\n",
              "4    55.0      F    High      NORMAL  10.977  drugQ\n",
              "..    ...    ...     ...         ...     ...    ...\n",
              "291  44.0      F    High        HIGH  12.854  drugQ\n",
              "292   NaN      F  Normal        HIGH  10.065  drugZ\n",
              "293  49.0      M     Low      NORMAL  11.014  drugZ\n",
              "294  29.0      F    High      NORMAL   9.475  drugQ\n",
              "295  28.0      F  Normal        HIGH  12.879  drugZ\n",
              "\n",
              "[296 rows x 6 columns]"
            ],
            "text/html": [
              "\n",
              "  <div id=\"df-e15465be-bc8f-4aa2-a0ec-9c8cc337d30d\">\n",
              "    <div class=\"colab-df-container\">\n",
              "      <div>\n",
              "<style scoped>\n",
              "    .dataframe tbody tr th:only-of-type {\n",
              "        vertical-align: middle;\n",
              "    }\n",
              "\n",
              "    .dataframe tbody tr th {\n",
              "        vertical-align: top;\n",
              "    }\n",
              "\n",
              "    .dataframe thead th {\n",
              "        text-align: right;\n",
              "    }\n",
              "</style>\n",
              "<table border=\"1\" class=\"dataframe\">\n",
              "  <thead>\n",
              "    <tr style=\"text-align: right;\">\n",
              "      <th></th>\n",
              "      <th>Age</th>\n",
              "      <th>Gender</th>\n",
              "      <th>BP</th>\n",
              "      <th>Cholesterol</th>\n",
              "      <th>Na_to_K</th>\n",
              "      <th>Drug</th>\n",
              "    </tr>\n",
              "  </thead>\n",
              "  <tbody>\n",
              "    <tr>\n",
              "      <th>0</th>\n",
              "      <td>59.0</td>\n",
              "      <td>M</td>\n",
              "      <td>High</td>\n",
              "      <td>HIGH</td>\n",
              "      <td>13.935</td>\n",
              "      <td>drugQ</td>\n",
              "    </tr>\n",
              "    <tr>\n",
              "      <th>1</th>\n",
              "      <td>40.0</td>\n",
              "      <td>F</td>\n",
              "      <td>Normal</td>\n",
              "      <td>HIGH</td>\n",
              "      <td>10.103</td>\n",
              "      <td>drugZ</td>\n",
              "    </tr>\n",
              "    <tr>\n",
              "      <th>2</th>\n",
              "      <td>NaN</td>\n",
              "      <td>M</td>\n",
              "      <td>Normal</td>\n",
              "      <td>HIGH</td>\n",
              "      <td>9.084</td>\n",
              "      <td>drugZ</td>\n",
              "    </tr>\n",
              "    <tr>\n",
              "      <th>3</th>\n",
              "      <td>62.0</td>\n",
              "      <td>M</td>\n",
              "      <td>Normal</td>\n",
              "      <td>HIGH</td>\n",
              "      <td>16.594</td>\n",
              "      <td>drugZ</td>\n",
              "    </tr>\n",
              "    <tr>\n",
              "      <th>4</th>\n",
              "      <td>55.0</td>\n",
              "      <td>F</td>\n",
              "      <td>High</td>\n",
              "      <td>NORMAL</td>\n",
              "      <td>10.977</td>\n",
              "      <td>drugQ</td>\n",
              "    </tr>\n",
              "    <tr>\n",
              "      <th>...</th>\n",
              "      <td>...</td>\n",
              "      <td>...</td>\n",
              "      <td>...</td>\n",
              "      <td>...</td>\n",
              "      <td>...</td>\n",
              "      <td>...</td>\n",
              "    </tr>\n",
              "    <tr>\n",
              "      <th>291</th>\n",
              "      <td>44.0</td>\n",
              "      <td>F</td>\n",
              "      <td>High</td>\n",
              "      <td>HIGH</td>\n",
              "      <td>12.854</td>\n",
              "      <td>drugQ</td>\n",
              "    </tr>\n",
              "    <tr>\n",
              "      <th>292</th>\n",
              "      <td>NaN</td>\n",
              "      <td>F</td>\n",
              "      <td>Normal</td>\n",
              "      <td>HIGH</td>\n",
              "      <td>10.065</td>\n",
              "      <td>drugZ</td>\n",
              "    </tr>\n",
              "    <tr>\n",
              "      <th>293</th>\n",
              "      <td>49.0</td>\n",
              "      <td>M</td>\n",
              "      <td>Low</td>\n",
              "      <td>NORMAL</td>\n",
              "      <td>11.014</td>\n",
              "      <td>drugZ</td>\n",
              "    </tr>\n",
              "    <tr>\n",
              "      <th>294</th>\n",
              "      <td>29.0</td>\n",
              "      <td>F</td>\n",
              "      <td>High</td>\n",
              "      <td>NORMAL</td>\n",
              "      <td>9.475</td>\n",
              "      <td>drugQ</td>\n",
              "    </tr>\n",
              "    <tr>\n",
              "      <th>295</th>\n",
              "      <td>28.0</td>\n",
              "      <td>F</td>\n",
              "      <td>Normal</td>\n",
              "      <td>HIGH</td>\n",
              "      <td>12.879</td>\n",
              "      <td>drugZ</td>\n",
              "    </tr>\n",
              "  </tbody>\n",
              "</table>\n",
              "<p>296 rows × 6 columns</p>\n",
              "</div>\n",
              "      <button class=\"colab-df-convert\" onclick=\"convertToInteractive('df-e15465be-bc8f-4aa2-a0ec-9c8cc337d30d')\"\n",
              "              title=\"Convert this dataframe to an interactive table.\"\n",
              "              style=\"display:none;\">\n",
              "        \n",
              "  <svg xmlns=\"http://www.w3.org/2000/svg\" height=\"24px\"viewBox=\"0 0 24 24\"\n",
              "       width=\"24px\">\n",
              "    <path d=\"M0 0h24v24H0V0z\" fill=\"none\"/>\n",
              "    <path d=\"M18.56 5.44l.94 2.06.94-2.06 2.06-.94-2.06-.94-.94-2.06-.94 2.06-2.06.94zm-11 1L8.5 8.5l.94-2.06 2.06-.94-2.06-.94L8.5 2.5l-.94 2.06-2.06.94zm10 10l.94 2.06.94-2.06 2.06-.94-2.06-.94-.94-2.06-.94 2.06-2.06.94z\"/><path d=\"M17.41 7.96l-1.37-1.37c-.4-.4-.92-.59-1.43-.59-.52 0-1.04.2-1.43.59L10.3 9.45l-7.72 7.72c-.78.78-.78 2.05 0 2.83L4 21.41c.39.39.9.59 1.41.59.51 0 1.02-.2 1.41-.59l7.78-7.78 2.81-2.81c.8-.78.8-2.07 0-2.86zM5.41 20L4 18.59l7.72-7.72 1.47 1.35L5.41 20z\"/>\n",
              "  </svg>\n",
              "      </button>\n",
              "      \n",
              "  <style>\n",
              "    .colab-df-container {\n",
              "      display:flex;\n",
              "      flex-wrap:wrap;\n",
              "      gap: 12px;\n",
              "    }\n",
              "\n",
              "    .colab-df-convert {\n",
              "      background-color: #E8F0FE;\n",
              "      border: none;\n",
              "      border-radius: 50%;\n",
              "      cursor: pointer;\n",
              "      display: none;\n",
              "      fill: #1967D2;\n",
              "      height: 32px;\n",
              "      padding: 0 0 0 0;\n",
              "      width: 32px;\n",
              "    }\n",
              "\n",
              "    .colab-df-convert:hover {\n",
              "      background-color: #E2EBFA;\n",
              "      box-shadow: 0px 1px 2px rgba(60, 64, 67, 0.3), 0px 1px 3px 1px rgba(60, 64, 67, 0.15);\n",
              "      fill: #174EA6;\n",
              "    }\n",
              "\n",
              "    [theme=dark] .colab-df-convert {\n",
              "      background-color: #3B4455;\n",
              "      fill: #D2E3FC;\n",
              "    }\n",
              "\n",
              "    [theme=dark] .colab-df-convert:hover {\n",
              "      background-color: #434B5C;\n",
              "      box-shadow: 0px 1px 3px 1px rgba(0, 0, 0, 0.15);\n",
              "      filter: drop-shadow(0px 1px 2px rgba(0, 0, 0, 0.3));\n",
              "      fill: #FFFFFF;\n",
              "    }\n",
              "  </style>\n",
              "\n",
              "      <script>\n",
              "        const buttonEl =\n",
              "          document.querySelector('#df-e15465be-bc8f-4aa2-a0ec-9c8cc337d30d button.colab-df-convert');\n",
              "        buttonEl.style.display =\n",
              "          google.colab.kernel.accessAllowed ? 'block' : 'none';\n",
              "\n",
              "        async function convertToInteractive(key) {\n",
              "          const element = document.querySelector('#df-e15465be-bc8f-4aa2-a0ec-9c8cc337d30d');\n",
              "          const dataTable =\n",
              "            await google.colab.kernel.invokeFunction('convertToInteractive',\n",
              "                                                     [key], {});\n",
              "          if (!dataTable) return;\n",
              "\n",
              "          const docLinkHtml = 'Like what you see? Visit the ' +\n",
              "            '<a target=\"_blank\" href=https://colab.research.google.com/notebooks/data_table.ipynb>data table notebook</a>'\n",
              "            + ' to learn more about interactive tables.';\n",
              "          element.innerHTML = '';\n",
              "          dataTable['output_type'] = 'display_data';\n",
              "          await google.colab.output.renderOutput(dataTable, element);\n",
              "          const docLink = document.createElement('div');\n",
              "          docLink.innerHTML = docLinkHtml;\n",
              "          element.appendChild(docLink);\n",
              "        }\n",
              "      </script>\n",
              "    </div>\n",
              "  </div>\n",
              "  "
            ]
          },
          "metadata": {},
          "execution_count": 3
        }
      ]
    },
    {
      "cell_type": "code",
      "source": [
        "# Check data contents\n",
        "df.info()"
      ],
      "metadata": {
        "colab": {
          "base_uri": "https://localhost:8080/"
        },
        "id": "CH3sH5epAEMX",
        "outputId": "8ec20487-bd47-4b26-cc91-eba38cdd8da8"
      },
      "execution_count": null,
      "outputs": [
        {
          "output_type": "stream",
          "name": "stdout",
          "text": [
            "<class 'pandas.core.frame.DataFrame'>\n",
            "RangeIndex: 296 entries, 0 to 295\n",
            "Data columns (total 6 columns):\n",
            " #   Column       Non-Null Count  Dtype  \n",
            "---  ------       --------------  -----  \n",
            " 0   Age          237 non-null    float64\n",
            " 1   Gender       296 non-null    object \n",
            " 2   BP           221 non-null    object \n",
            " 3   Cholesterol  296 non-null    object \n",
            " 4   Na_to_K      296 non-null    object \n",
            " 5   Drug         296 non-null    object \n",
            "dtypes: float64(1), object(5)\n",
            "memory usage: 14.0+ KB\n"
          ]
        }
      ]
    },
    {
      "cell_type": "code",
      "source": [
        "# Check Missing Data\n",
        "df.isnull().sum()"
      ],
      "metadata": {
        "colab": {
          "base_uri": "https://localhost:8080/"
        },
        "id": "ibUteyTL7lWo",
        "outputId": "dcff8c67-4243-4585-925b-3f1d0ddd39e7"
      },
      "execution_count": null,
      "outputs": [
        {
          "output_type": "execute_result",
          "data": {
            "text/plain": [
              "Age            59\n",
              "Gender          0\n",
              "BP             75\n",
              "Cholesterol     0\n",
              "Na_to_K         0\n",
              "Drug            0\n",
              "dtype: int64"
            ]
          },
          "metadata": {},
          "execution_count": 5
        }
      ]
    },
    {
      "cell_type": "markdown",
      "source": [
        "###### Explore and Clean 'Age' Data Set"
      ],
      "metadata": {
        "id": "g4UZgHTGbqwB"
      }
    },
    {
      "cell_type": "code",
      "source": [
        "# Check for Inconsistent data\n",
        "df['Age'].value_counts().head()"
      ],
      "metadata": {
        "colab": {
          "base_uri": "https://localhost:8080/"
        },
        "id": "bvQ3s7NmbtcS",
        "outputId": "f93a009a-97e5-492b-bdbf-4c0843bdcd92"
      },
      "execution_count": null,
      "outputs": [
        {
          "output_type": "execute_result",
          "data": {
            "text/plain": [
              "36.0    9\n",
              "43.0    7\n",
              "55.0    7\n",
              "61.0    7\n",
              "42.0    7\n",
              "Name: Age, dtype: int64"
            ]
          },
          "metadata": {},
          "execution_count": 6
        }
      ]
    },
    {
      "cell_type": "code",
      "source": [
        "df['Age'].min()"
      ],
      "metadata": {
        "colab": {
          "base_uri": "https://localhost:8080/"
        },
        "id": "atTwKLuPmgdX",
        "outputId": "5a4d215b-bcd7-4676-9647-fa84a7e93584"
      },
      "execution_count": null,
      "outputs": [
        {
          "output_type": "execute_result",
          "data": {
            "text/plain": [
              "15.0"
            ]
          },
          "metadata": {},
          "execution_count": 7
        }
      ]
    },
    {
      "cell_type": "code",
      "source": [
        "df['Age'].max()"
      ],
      "metadata": {
        "colab": {
          "base_uri": "https://localhost:8080/"
        },
        "id": "V_GIpu05mjC6",
        "outputId": "84aaddd8-bd10-4a5e-ab29-30ffaa74b7da"
      },
      "execution_count": null,
      "outputs": [
        {
          "output_type": "execute_result",
          "data": {
            "text/plain": [
              "570.0"
            ]
          },
          "metadata": {},
          "execution_count": 8
        }
      ]
    },
    {
      "cell_type": "code",
      "source": [
        "# Fix Inconsistent Data\n",
        "df['Age'] = df['Age'].replace({570:57})"
      ],
      "metadata": {
        "id": "r_62eHcims5B"
      },
      "execution_count": null,
      "outputs": []
    },
    {
      "cell_type": "code",
      "source": [
        "df['Age'].max()"
      ],
      "metadata": {
        "colab": {
          "base_uri": "https://localhost:8080/"
        },
        "id": "TFHkUC0pm4fe",
        "outputId": "8d1c4880-e9bb-40ef-b9c1-331ab36f345f"
      },
      "execution_count": null,
      "outputs": [
        {
          "output_type": "execute_result",
          "data": {
            "text/plain": [
              "74.0"
            ]
          },
          "metadata": {},
          "execution_count": 10
        }
      ]
    },
    {
      "cell_type": "markdown",
      "source": [
        "###### Explore and Clean 'Gender' Data Set"
      ],
      "metadata": {
        "id": "P3SKzr0ZbXFd"
      }
    },
    {
      "cell_type": "code",
      "source": [
        "# Check for Inconsistent Data\n",
        "df['Gender'].value_counts()"
      ],
      "metadata": {
        "colab": {
          "base_uri": "https://localhost:8080/"
        },
        "id": "qEAos4X8ALBU",
        "outputId": "e1098645-f666-489f-e299-9fb28f6d25f8"
      },
      "execution_count": null,
      "outputs": [
        {
          "output_type": "execute_result",
          "data": {
            "text/plain": [
              "M         149\n",
              "F         137\n",
              "male        4\n",
              "female      2\n",
              "Female      1\n",
              "Male        1\n",
              "femal       1\n",
              "Femal       1\n",
              "Name: Gender, dtype: int64"
            ]
          },
          "metadata": {},
          "execution_count": 11
        }
      ]
    },
    {
      "cell_type": "code",
      "source": [
        "# Fix Inconsistent Data\n",
        "df['Gender'] = df['Gender'].replace({'male':'M', \n",
        "                                     'female':'F', \n",
        "                                     'Female':'F', \n",
        "                                     'Male':'M', \n",
        "                                     'femal':'F', \n",
        "                                     'Femal':'F'})"
      ],
      "metadata": {
        "id": "Lep2UCNzATW_"
      },
      "execution_count": null,
      "outputs": []
    },
    {
      "cell_type": "code",
      "source": [
        "df['Gender'].value_counts()"
      ],
      "metadata": {
        "colab": {
          "base_uri": "https://localhost:8080/"
        },
        "id": "aEo8tL8cA2Mm",
        "outputId": "e0569535-f7fb-4fa6-c11d-e364e5e1c772"
      },
      "execution_count": null,
      "outputs": [
        {
          "output_type": "execute_result",
          "data": {
            "text/plain": [
              "M    154\n",
              "F    142\n",
              "Name: Gender, dtype: int64"
            ]
          },
          "metadata": {},
          "execution_count": 13
        }
      ]
    },
    {
      "cell_type": "code",
      "source": [
        "# Change Categorical Values to Numeric\n",
        "df['Gender'] = df['Gender'].replace({'M':0, 'F':1})"
      ],
      "metadata": {
        "id": "eapMnjpK7AhM"
      },
      "execution_count": null,
      "outputs": []
    },
    {
      "cell_type": "code",
      "source": [
        "df['Gender'].value_counts()"
      ],
      "metadata": {
        "colab": {
          "base_uri": "https://localhost:8080/"
        },
        "id": "VskpOamc7Mni",
        "outputId": "6deefd0c-1962-46d8-a6a0-628b644bcf38"
      },
      "execution_count": null,
      "outputs": [
        {
          "output_type": "execute_result",
          "data": {
            "text/plain": [
              "0    154\n",
              "1    142\n",
              "Name: Gender, dtype: int64"
            ]
          },
          "metadata": {},
          "execution_count": 15
        }
      ]
    },
    {
      "cell_type": "markdown",
      "source": [
        "###### Explore and Clean 'BP' Data Set"
      ],
      "metadata": {
        "id": "aIl2Srasb6Rt"
      }
    },
    {
      "cell_type": "code",
      "source": [
        "# Check for Inconsistent Data\n",
        "df['BP'].value_counts()"
      ],
      "metadata": {
        "colab": {
          "base_uri": "https://localhost:8080/"
        },
        "id": "7-Jm-DXh94pI",
        "outputId": "e0a5d65f-6c5b-49ad-b445-0aaf3a856b23"
      },
      "execution_count": null,
      "outputs": [
        {
          "output_type": "execute_result",
          "data": {
            "text/plain": [
              "High      142\n",
              "Normal     46\n",
              "Low        33\n",
              "Name: BP, dtype: int64"
            ]
          },
          "metadata": {},
          "execution_count": 16
        }
      ]
    },
    {
      "cell_type": "code",
      "source": [
        "# Change Categorical Values to Numeric\n",
        "df['BP'] = df['BP'].replace({'High':2, 'Normal':1, 'Low':0})\n",
        "\n",
        "df['BP'] = df['BP'].astype('Int64') # Change values to integers\n",
        "\n",
        "df['BP'].value_counts()\n"
      ],
      "metadata": {
        "colab": {
          "base_uri": "https://localhost:8080/"
        },
        "id": "EvjGRBdS7elJ",
        "outputId": "9c5415b2-4a00-4f0f-d764-19be4701f049"
      },
      "execution_count": null,
      "outputs": [
        {
          "output_type": "execute_result",
          "data": {
            "text/plain": [
              "2    142\n",
              "1     46\n",
              "0     33\n",
              "Name: BP, dtype: Int64"
            ]
          },
          "metadata": {},
          "execution_count": 17
        }
      ]
    },
    {
      "cell_type": "markdown",
      "source": [
        "###### Explore and Clean 'Cholesterol' Data Set"
      ],
      "metadata": {
        "id": "yFJ8FCPIb8RA"
      }
    },
    {
      "cell_type": "code",
      "source": [
        "# Check for Inconsistent Data\n",
        "df['Cholesterol'].value_counts()"
      ],
      "metadata": {
        "colab": {
          "base_uri": "https://localhost:8080/"
        },
        "id": "rvcEtJ7lbjzj",
        "outputId": "49e8a9d6-25b1-4c31-92c0-8e86c0354cd3"
      },
      "execution_count": null,
      "outputs": [
        {
          "output_type": "execute_result",
          "data": {
            "text/plain": [
              "HIGH      156\n",
              "NORMAL    117\n",
              "norm        9\n",
              "high        8\n",
              "NORM        6\n",
              "Name: Cholesterol, dtype: int64"
            ]
          },
          "metadata": {},
          "execution_count": 18
        }
      ]
    },
    {
      "cell_type": "code",
      "source": [
        "# Fix Inconsistent Data\n",
        "df['Cholesterol'] = df['Cholesterol'].replace({'norm':'NORMAL', \n",
        "                                     'high':'HIGH', \n",
        "                                     'NORM':'NORMAL'})\n",
        "\n",
        "df['Cholesterol'].value_counts()"
      ],
      "metadata": {
        "id": "ADynfNi8cjv8",
        "colab": {
          "base_uri": "https://localhost:8080/"
        },
        "outputId": "044671f5-2e1f-4fdf-e97a-3d31dd97deaa"
      },
      "execution_count": null,
      "outputs": [
        {
          "output_type": "execute_result",
          "data": {
            "text/plain": [
              "HIGH      164\n",
              "NORMAL    132\n",
              "Name: Cholesterol, dtype: int64"
            ]
          },
          "metadata": {},
          "execution_count": 19
        }
      ]
    },
    {
      "cell_type": "code",
      "source": [
        "# Change Categorical Values to Numeric\n",
        "df['Cholesterol'] = df['Cholesterol'].replace({'HIGH':1, 'NORMAL':0})\n",
        "\n",
        "df['Cholesterol'] = df['Cholesterol'].astype('Int64') # Change values to integers\n",
        "\n",
        "df['Cholesterol'].value_counts()\n"
      ],
      "metadata": {
        "colab": {
          "base_uri": "https://localhost:8080/"
        },
        "id": "ds2dJyWkBVC-",
        "outputId": "fea9c9a7-a42c-496b-9db2-b48f4412bc4e"
      },
      "execution_count": null,
      "outputs": [
        {
          "output_type": "execute_result",
          "data": {
            "text/plain": [
              "1    164\n",
              "0    132\n",
              "Name: Cholesterol, dtype: Int64"
            ]
          },
          "metadata": {},
          "execution_count": 20
        }
      ]
    },
    {
      "cell_type": "code",
      "source": [
        "# Display new data values\n",
        "df['Cholesterol'].value_counts()"
      ],
      "metadata": {
        "colab": {
          "base_uri": "https://localhost:8080/"
        },
        "id": "-LOV9NhBcxtj",
        "outputId": "3a57bc29-02f1-4b45-d179-7b87a26d71b5"
      },
      "execution_count": null,
      "outputs": [
        {
          "output_type": "execute_result",
          "data": {
            "text/plain": [
              "1    164\n",
              "0    132\n",
              "Name: Cholesterol, dtype: Int64"
            ]
          },
          "metadata": {},
          "execution_count": 21
        }
      ]
    },
    {
      "cell_type": "markdown",
      "source": [
        "###### Explore and Clean 'Na_to_K' Data Set"
      ],
      "metadata": {
        "id": "ZrY1sDIDcCKS"
      }
    },
    {
      "cell_type": "code",
      "source": [
        "# Check for Inconsistent Data\n",
        "df['Na_to_K'].value_counts()"
      ],
      "metadata": {
        "colab": {
          "base_uri": "https://localhost:8080/"
        },
        "id": "gdzudd1xcJAY",
        "outputId": "a248a0c9-62a5-4952-d533-b5e697477c2c"
      },
      "execution_count": null,
      "outputs": [
        {
          "output_type": "execute_result",
          "data": {
            "text/plain": [
              "12.307    7\n",
              "13.967    7\n",
              "13.091    7\n",
              "12.766    7\n",
              "11.198    7\n",
              "         ..\n",
              "10.091    1\n",
              "16.275    1\n",
              "8.107     1\n",
              "10.443    1\n",
              "12.879    1\n",
              "Name: Na_to_K, Length: 183, dtype: int64"
            ]
          },
          "metadata": {},
          "execution_count": 22
        }
      ]
    },
    {
      "cell_type": "code",
      "source": [
        "# Fix Inconsistent Data\n",
        "df['Na_to_K'] = df['Na_to_K'].replace({'10.403_':'10.403'})"
      ],
      "metadata": {
        "id": "WJa4F7MUc-HV"
      },
      "execution_count": null,
      "outputs": []
    },
    {
      "cell_type": "code",
      "source": [
        "# Display Fixed Data\n",
        "df['Na_to_K'].value_counts()"
      ],
      "metadata": {
        "colab": {
          "base_uri": "https://localhost:8080/"
        },
        "id": "Hf6Z67JYdKf5",
        "outputId": "0fac9532-7b91-4477-f530-1ed5d5eb16e5"
      },
      "execution_count": null,
      "outputs": [
        {
          "output_type": "execute_result",
          "data": {
            "text/plain": [
              "12.307    7\n",
              "13.967    7\n",
              "13.091    7\n",
              "12.766    7\n",
              "11.198    7\n",
              "         ..\n",
              "10.091    1\n",
              "16.275    1\n",
              "8.107     1\n",
              "10.443    1\n",
              "12.879    1\n",
              "Name: Na_to_K, Length: 183, dtype: int64"
            ]
          },
          "metadata": {},
          "execution_count": 24
        }
      ]
    },
    {
      "cell_type": "code",
      "source": [
        "# Change data type to float\n",
        "df['Na_to_K'] = pd.to_numeric(df['Na_to_K'], downcast = 'float')"
      ],
      "metadata": {
        "id": "qoBNTC-VdffR"
      },
      "execution_count": null,
      "outputs": []
    },
    {
      "cell_type": "code",
      "source": [
        "df.info()"
      ],
      "metadata": {
        "colab": {
          "base_uri": "https://localhost:8080/"
        },
        "id": "WUj4NweTdmBb",
        "outputId": "3519e9ea-bb8d-4226-ad41-d25cc4ddd5c3"
      },
      "execution_count": null,
      "outputs": [
        {
          "output_type": "stream",
          "name": "stdout",
          "text": [
            "<class 'pandas.core.frame.DataFrame'>\n",
            "RangeIndex: 296 entries, 0 to 295\n",
            "Data columns (total 6 columns):\n",
            " #   Column       Non-Null Count  Dtype  \n",
            "---  ------       --------------  -----  \n",
            " 0   Age          237 non-null    float64\n",
            " 1   Gender       296 non-null    int64  \n",
            " 2   BP           221 non-null    Int64  \n",
            " 3   Cholesterol  296 non-null    Int64  \n",
            " 4   Na_to_K      296 non-null    float32\n",
            " 5   Drug         296 non-null    object \n",
            "dtypes: Int64(2), float32(1), float64(1), int64(1), object(1)\n",
            "memory usage: 13.4+ KB\n"
          ]
        }
      ]
    },
    {
      "cell_type": "markdown",
      "source": [
        "###### Explore and Clean 'Drug' Data Set"
      ],
      "metadata": {
        "id": "6bHCKdt3dsui"
      }
    },
    {
      "cell_type": "code",
      "source": [
        "# Check for Inconsistent data\n",
        "df['Drug'].value_counts()"
      ],
      "metadata": {
        "colab": {
          "base_uri": "https://localhost:8080/"
        },
        "id": "GqPMH3UwdvlY",
        "outputId": "e9ea5e58-d93c-489d-9351-00b5a4d2058a"
      },
      "execution_count": null,
      "outputs": [
        {
          "output_type": "execute_result",
          "data": {
            "text/plain": [
              "drugQ    148\n",
              "drugZ    148\n",
              "Name: Drug, dtype: int64"
            ]
          },
          "metadata": {},
          "execution_count": 27
        }
      ]
    },
    {
      "cell_type": "code",
      "source": [
        "# Convert Target to Numeric Values\n",
        "df['Drug'] = df['Drug'].replace({'drugQ':0, 'drugZ':1})"
      ],
      "metadata": {
        "id": "NHJvFhad37-R"
      },
      "execution_count": null,
      "outputs": []
    },
    {
      "cell_type": "code",
      "source": [
        "# Search for Duplicate Data\n",
        "\n",
        "df.duplicated().sum()"
      ],
      "metadata": {
        "colab": {
          "base_uri": "https://localhost:8080/"
        },
        "id": "4Ex7YH6qz3Np",
        "outputId": "aab425a8-9217-4c04-e1d0-521f2f0c510f"
      },
      "execution_count": null,
      "outputs": [
        {
          "output_type": "execute_result",
          "data": {
            "text/plain": [
              "15"
            ]
          },
          "metadata": {},
          "execution_count": 29
        }
      ]
    },
    {
      "cell_type": "code",
      "source": [
        "# Drop Duplicate Data\n",
        "\n",
        "df_new = df.drop_duplicates()\n",
        "\n",
        "df_new"
      ],
      "metadata": {
        "colab": {
          "base_uri": "https://localhost:8080/",
          "height": 424
        },
        "id": "1MSix4jdz5L6",
        "outputId": "47d0c612-726d-48af-acb3-8f2bcea65982"
      },
      "execution_count": null,
      "outputs": [
        {
          "output_type": "execute_result",
          "data": {
            "text/plain": [
              "      Age  Gender  BP  Cholesterol  Na_to_K  Drug\n",
              "0    59.0       0   2            1   13.935     0\n",
              "1    40.0       1   1            1   10.103     1\n",
              "2     NaN       0   1            1    9.084     1\n",
              "3    62.0       0   1            1   16.594     1\n",
              "4    55.0       1   2            0   10.977     0\n",
              "..    ...     ...  ..          ...      ...   ...\n",
              "290  51.0       0   2            1   18.295     1\n",
              "292   NaN       1   1            1   10.065     1\n",
              "293  49.0       0   0            0   11.014     1\n",
              "294  29.0       1   2            0    9.475     0\n",
              "295  28.0       1   1            1   12.879     1\n",
              "\n",
              "[281 rows x 6 columns]"
            ],
            "text/html": [
              "\n",
              "  <div id=\"df-bde14c60-9fbc-4871-9697-d335b5b0d00a\">\n",
              "    <div class=\"colab-df-container\">\n",
              "      <div>\n",
              "<style scoped>\n",
              "    .dataframe tbody tr th:only-of-type {\n",
              "        vertical-align: middle;\n",
              "    }\n",
              "\n",
              "    .dataframe tbody tr th {\n",
              "        vertical-align: top;\n",
              "    }\n",
              "\n",
              "    .dataframe thead th {\n",
              "        text-align: right;\n",
              "    }\n",
              "</style>\n",
              "<table border=\"1\" class=\"dataframe\">\n",
              "  <thead>\n",
              "    <tr style=\"text-align: right;\">\n",
              "      <th></th>\n",
              "      <th>Age</th>\n",
              "      <th>Gender</th>\n",
              "      <th>BP</th>\n",
              "      <th>Cholesterol</th>\n",
              "      <th>Na_to_K</th>\n",
              "      <th>Drug</th>\n",
              "    </tr>\n",
              "  </thead>\n",
              "  <tbody>\n",
              "    <tr>\n",
              "      <th>0</th>\n",
              "      <td>59.0</td>\n",
              "      <td>0</td>\n",
              "      <td>2</td>\n",
              "      <td>1</td>\n",
              "      <td>13.935</td>\n",
              "      <td>0</td>\n",
              "    </tr>\n",
              "    <tr>\n",
              "      <th>1</th>\n",
              "      <td>40.0</td>\n",
              "      <td>1</td>\n",
              "      <td>1</td>\n",
              "      <td>1</td>\n",
              "      <td>10.103</td>\n",
              "      <td>1</td>\n",
              "    </tr>\n",
              "    <tr>\n",
              "      <th>2</th>\n",
              "      <td>NaN</td>\n",
              "      <td>0</td>\n",
              "      <td>1</td>\n",
              "      <td>1</td>\n",
              "      <td>9.084</td>\n",
              "      <td>1</td>\n",
              "    </tr>\n",
              "    <tr>\n",
              "      <th>3</th>\n",
              "      <td>62.0</td>\n",
              "      <td>0</td>\n",
              "      <td>1</td>\n",
              "      <td>1</td>\n",
              "      <td>16.594</td>\n",
              "      <td>1</td>\n",
              "    </tr>\n",
              "    <tr>\n",
              "      <th>4</th>\n",
              "      <td>55.0</td>\n",
              "      <td>1</td>\n",
              "      <td>2</td>\n",
              "      <td>0</td>\n",
              "      <td>10.977</td>\n",
              "      <td>0</td>\n",
              "    </tr>\n",
              "    <tr>\n",
              "      <th>...</th>\n",
              "      <td>...</td>\n",
              "      <td>...</td>\n",
              "      <td>...</td>\n",
              "      <td>...</td>\n",
              "      <td>...</td>\n",
              "      <td>...</td>\n",
              "    </tr>\n",
              "    <tr>\n",
              "      <th>290</th>\n",
              "      <td>51.0</td>\n",
              "      <td>0</td>\n",
              "      <td>2</td>\n",
              "      <td>1</td>\n",
              "      <td>18.295</td>\n",
              "      <td>1</td>\n",
              "    </tr>\n",
              "    <tr>\n",
              "      <th>292</th>\n",
              "      <td>NaN</td>\n",
              "      <td>1</td>\n",
              "      <td>1</td>\n",
              "      <td>1</td>\n",
              "      <td>10.065</td>\n",
              "      <td>1</td>\n",
              "    </tr>\n",
              "    <tr>\n",
              "      <th>293</th>\n",
              "      <td>49.0</td>\n",
              "      <td>0</td>\n",
              "      <td>0</td>\n",
              "      <td>0</td>\n",
              "      <td>11.014</td>\n",
              "      <td>1</td>\n",
              "    </tr>\n",
              "    <tr>\n",
              "      <th>294</th>\n",
              "      <td>29.0</td>\n",
              "      <td>1</td>\n",
              "      <td>2</td>\n",
              "      <td>0</td>\n",
              "      <td>9.475</td>\n",
              "      <td>0</td>\n",
              "    </tr>\n",
              "    <tr>\n",
              "      <th>295</th>\n",
              "      <td>28.0</td>\n",
              "      <td>1</td>\n",
              "      <td>1</td>\n",
              "      <td>1</td>\n",
              "      <td>12.879</td>\n",
              "      <td>1</td>\n",
              "    </tr>\n",
              "  </tbody>\n",
              "</table>\n",
              "<p>281 rows × 6 columns</p>\n",
              "</div>\n",
              "      <button class=\"colab-df-convert\" onclick=\"convertToInteractive('df-bde14c60-9fbc-4871-9697-d335b5b0d00a')\"\n",
              "              title=\"Convert this dataframe to an interactive table.\"\n",
              "              style=\"display:none;\">\n",
              "        \n",
              "  <svg xmlns=\"http://www.w3.org/2000/svg\" height=\"24px\"viewBox=\"0 0 24 24\"\n",
              "       width=\"24px\">\n",
              "    <path d=\"M0 0h24v24H0V0z\" fill=\"none\"/>\n",
              "    <path d=\"M18.56 5.44l.94 2.06.94-2.06 2.06-.94-2.06-.94-.94-2.06-.94 2.06-2.06.94zm-11 1L8.5 8.5l.94-2.06 2.06-.94-2.06-.94L8.5 2.5l-.94 2.06-2.06.94zm10 10l.94 2.06.94-2.06 2.06-.94-2.06-.94-.94-2.06-.94 2.06-2.06.94z\"/><path d=\"M17.41 7.96l-1.37-1.37c-.4-.4-.92-.59-1.43-.59-.52 0-1.04.2-1.43.59L10.3 9.45l-7.72 7.72c-.78.78-.78 2.05 0 2.83L4 21.41c.39.39.9.59 1.41.59.51 0 1.02-.2 1.41-.59l7.78-7.78 2.81-2.81c.8-.78.8-2.07 0-2.86zM5.41 20L4 18.59l7.72-7.72 1.47 1.35L5.41 20z\"/>\n",
              "  </svg>\n",
              "      </button>\n",
              "      \n",
              "  <style>\n",
              "    .colab-df-container {\n",
              "      display:flex;\n",
              "      flex-wrap:wrap;\n",
              "      gap: 12px;\n",
              "    }\n",
              "\n",
              "    .colab-df-convert {\n",
              "      background-color: #E8F0FE;\n",
              "      border: none;\n",
              "      border-radius: 50%;\n",
              "      cursor: pointer;\n",
              "      display: none;\n",
              "      fill: #1967D2;\n",
              "      height: 32px;\n",
              "      padding: 0 0 0 0;\n",
              "      width: 32px;\n",
              "    }\n",
              "\n",
              "    .colab-df-convert:hover {\n",
              "      background-color: #E2EBFA;\n",
              "      box-shadow: 0px 1px 2px rgba(60, 64, 67, 0.3), 0px 1px 3px 1px rgba(60, 64, 67, 0.15);\n",
              "      fill: #174EA6;\n",
              "    }\n",
              "\n",
              "    [theme=dark] .colab-df-convert {\n",
              "      background-color: #3B4455;\n",
              "      fill: #D2E3FC;\n",
              "    }\n",
              "\n",
              "    [theme=dark] .colab-df-convert:hover {\n",
              "      background-color: #434B5C;\n",
              "      box-shadow: 0px 1px 3px 1px rgba(0, 0, 0, 0.15);\n",
              "      filter: drop-shadow(0px 1px 2px rgba(0, 0, 0, 0.3));\n",
              "      fill: #FFFFFF;\n",
              "    }\n",
              "  </style>\n",
              "\n",
              "      <script>\n",
              "        const buttonEl =\n",
              "          document.querySelector('#df-bde14c60-9fbc-4871-9697-d335b5b0d00a button.colab-df-convert');\n",
              "        buttonEl.style.display =\n",
              "          google.colab.kernel.accessAllowed ? 'block' : 'none';\n",
              "\n",
              "        async function convertToInteractive(key) {\n",
              "          const element = document.querySelector('#df-bde14c60-9fbc-4871-9697-d335b5b0d00a');\n",
              "          const dataTable =\n",
              "            await google.colab.kernel.invokeFunction('convertToInteractive',\n",
              "                                                     [key], {});\n",
              "          if (!dataTable) return;\n",
              "\n",
              "          const docLinkHtml = 'Like what you see? Visit the ' +\n",
              "            '<a target=\"_blank\" href=https://colab.research.google.com/notebooks/data_table.ipynb>data table notebook</a>'\n",
              "            + ' to learn more about interactive tables.';\n",
              "          element.innerHTML = '';\n",
              "          dataTable['output_type'] = 'display_data';\n",
              "          await google.colab.output.renderOutput(dataTable, element);\n",
              "          const docLink = document.createElement('div');\n",
              "          docLink.innerHTML = docLinkHtml;\n",
              "          element.appendChild(docLink);\n",
              "        }\n",
              "      </script>\n",
              "    </div>\n",
              "  </div>\n",
              "  "
            ]
          },
          "metadata": {},
          "execution_count": 30
        }
      ]
    },
    {
      "cell_type": "code",
      "source": [
        "df_new.info()"
      ],
      "metadata": {
        "colab": {
          "base_uri": "https://localhost:8080/"
        },
        "id": "Hm0VC7EYCdJs",
        "outputId": "cfba153d-6b7e-4477-a356-ce8f09a30070"
      },
      "execution_count": null,
      "outputs": [
        {
          "output_type": "stream",
          "name": "stdout",
          "text": [
            "<class 'pandas.core.frame.DataFrame'>\n",
            "Int64Index: 281 entries, 0 to 295\n",
            "Data columns (total 6 columns):\n",
            " #   Column       Non-Null Count  Dtype  \n",
            "---  ------       --------------  -----  \n",
            " 0   Age          227 non-null    float64\n",
            " 1   Gender       281 non-null    int64  \n",
            " 2   BP           206 non-null    Int64  \n",
            " 3   Cholesterol  281 non-null    Int64  \n",
            " 4   Na_to_K      281 non-null    float32\n",
            " 5   Drug         281 non-null    int64  \n",
            "dtypes: Int64(2), float32(1), float64(1), int64(2)\n",
            "memory usage: 14.8 KB\n"
          ]
        }
      ]
    },
    {
      "cell_type": "code",
      "source": [
        "# Check Missing Data\n",
        "df_new.isnull().sum()"
      ],
      "metadata": {
        "colab": {
          "base_uri": "https://localhost:8080/"
        },
        "id": "qlCcVtoGD6Yk",
        "outputId": "b83ef49c-8958-46cc-9cc5-a0bdca31c1da"
      },
      "execution_count": null,
      "outputs": [
        {
          "output_type": "execute_result",
          "data": {
            "text/plain": [
              "Age            54\n",
              "Gender          0\n",
              "BP             75\n",
              "Cholesterol     0\n",
              "Na_to_K         0\n",
              "Drug            0\n",
              "dtype: int64"
            ]
          },
          "metadata": {},
          "execution_count": 32
        }
      ]
    },
    {
      "cell_type": "markdown",
      "source": [
        "##### Data Visualizations"
      ],
      "metadata": {
        "id": "_wPt9-BpZHPL"
      }
    },
    {
      "cell_type": "markdown",
      "source": [
        "###### 01 - Gender Distribution\n",
        "\n",
        "This visualization tells us that there is an almost equal distribution of male and female patients in the drug study"
      ],
      "metadata": {
        "id": "72f8_ngVZKrY"
      }
    },
    {
      "cell_type": "code",
      "source": [
        "explode1 = (0.01, 0.01)\n",
        "x1 = df['Gender'].value_counts()\n",
        "mycolors1 = [\"fuchsia\", \"lime\"]\n",
        "\n",
        "labels = ['Male', 'Female']\n",
        "x1.plot.pie(figsize = (25, 13), autopct='%.0f%%', explode = explode1, startangle = 45, colors = mycolors1, labels = None);\n",
        "plt.title('Distribution by Gender', fontsize = 20);\n",
        "plt.ylabel('', fontsize = 30);\n",
        "plt.legend(labels, loc=\"best\")"
      ],
      "metadata": {
        "colab": {
          "base_uri": "https://localhost:8080/",
          "height": 776
        },
        "id": "P5tdETPaZQ6s",
        "outputId": "604b5506-f1cf-4783-f076-eacd19298728"
      },
      "execution_count": null,
      "outputs": [
        {
          "output_type": "execute_result",
          "data": {
            "text/plain": [
              "<matplotlib.legend.Legend at 0x7f2d66989950>"
            ]
          },
          "metadata": {},
          "execution_count": 33
        },
        {
          "output_type": "display_data",
          "data": {
            "text/plain": [
              "<Figure size 1800x936 with 1 Axes>"
            ],
            "image/png": "[encoded data removed]"
          },
          "metadata": {}
        }
      ]
    },
    {
      "cell_type": "markdown",
      "source": [
        "###### 02 - Drug Distribution\n",
        "\n",
        "This visualization tells us that those patients with higher sodium to potassium ratio in their blood are mostly being prescribed with drugZ"
      ],
      "metadata": {
        "id": "xJqZXPNYbkop"
      }
    },
    {
      "cell_type": "code",
      "source": [
        "fig, axes = plt.subplots(nrows = 1, ncols = 1, figsize = (12,8));\n",
        "sns.boxplot(x = 'Drug', y = 'Na_to_K', data = df_new);\n",
        "\n",
        "plt.xticks(fontsize = 15, rotation = 90);\n",
        "plt.yticks(fontsize = 15);\n",
        "plt.xlabel('Drug', fontsize = 15);\n",
        "plt.ylabel('Na_to_K', fontsize = 15, labelpad = 30);\n",
        "\n",
        "x1 = [0,1]\n",
        "druglabel = ['drugQ','drugZ']\n",
        "\n",
        "axes.set_xticks(x1)\n",
        "axes.set_xticklabels(druglabel, minor=False, rotation = 0)"
      ],
      "metadata": {
        "colab": {
          "base_uri": "https://localhost:8080/",
          "height": 524
        },
        "id": "I2PTJUyCZD8y",
        "outputId": "6edd53c3-e87d-4df7-94b3-f964b9b903ab"
      },
      "execution_count": null,
      "outputs": [
        {
          "output_type": "execute_result",
          "data": {
            "text/plain": [
              "[Text(0, 0, 'drugQ'), Text(0, 0, 'drugZ')]"
            ]
          },
          "metadata": {},
          "execution_count": 34
        },
        {
          "output_type": "display_data",
          "data": {
            "text/plain": [
              "<Figure size 864x576 with 1 Axes>"
            ],
            "image/png": "[encoded data removed]"
          },
          "metadata": {
            "needs_background": "light"
          }
        }
      ]
    },
    {
      "cell_type": "markdown",
      "source": [
        "##### Classification via KNN - Default Hyperparameter"
      ],
      "metadata": {
        "id": "xha08K3-ktZX"
      }
    },
    {
      "cell_type": "code",
      "source": [
        "# Split Data Set\n",
        "X_knn = df_new.drop(columns = 'Drug')\n",
        "y_knn = df_new['Drug']\n",
        "X_train_knn, X_test_knn, y_train_knn, y_test_knn = train_test_split(X_knn, y_knn, random_state=42)"
      ],
      "metadata": {
        "id": "1HDhLcSNwCIf"
      },
      "execution_count": null,
      "outputs": []
    },
    {
      "cell_type": "markdown",
      "source": [
        "###### Pre-processing via pipelines\n",
        "\n",
        "Imputation using the median strategy would be appropriate for the Age and Blood Pressure columns so that it will return an integer value. \n",
        "\n",
        "---\n",
        "\n",
        "Numerical values will be scaled for easier modelling. \n",
        "\n",
        "---\n",
        "\n",
        "Categorical values were already changed to numerical values during the data cleaning part. This is to ensure that all values are mostly numerical for easier modelling. "
      ],
      "metadata": {
        "id": "MeHOINF7d1Fa"
      }
    },
    {
      "cell_type": "code",
      "source": [
        "# Imputers\n",
        "# This will be used to fill in the missing data in 'Age' column and 'Blood Pressure' column\n",
        "freq_imputer = SimpleImputer(strategy='median')\n",
        "\n",
        "# Scaler\n",
        "scaler = StandardScaler()\n",
        "\n",
        "# Selectors copy\n",
        "cat_selector = make_column_selector(dtype_include='object')\n",
        "num_selector = make_column_selector(dtype_include='number')\n",
        "\n",
        "# One-hot encoder\n",
        "ohe = OneHotEncoder(handle_unknown='ignore', sparse=False)\n",
        "\n",
        "# Numeric pipeline\n",
        "numeric_pipe = make_pipeline(freq_imputer, scaler)\n",
        "\n",
        "# Categorical pipeline\n",
        "categorical_pipe = make_pipeline(freq_imputer, ohe)\n",
        "\n",
        "# Tuples for Column Transformer\n",
        "number_tuple = (numeric_pipe, num_selector)\n",
        "category_tuple = (categorical_pipe, cat_selector)\n",
        "\n",
        "# ColumnTransformer\n",
        "preprocessor = make_column_transformer(number_tuple, category_tuple)\n",
        "preprocessor"
      ],
      "metadata": {
        "colab": {
          "base_uri": "https://localhost:8080/",
          "height": 152
        },
        "id": "MMPmWMxHTWKM",
        "outputId": "ffe5564c-a9fc-400d-992d-36818a1a3a86"
      },
      "execution_count": null,
      "outputs": [
        {
          "output_type": "execute_result",
          "data": {
            "text/plain": [
              "ColumnTransformer(transformers=[('pipeline-1',\n",
              "                                 Pipeline(steps=[('simpleimputer',\n",
              "                                                  SimpleImputer(strategy='median')),\n",
              "                                                 ('standardscaler',\n",
              "                                                  StandardScaler())]),\n",
              "                                 <sklearn.compose._column_transformer.make_column_selector object at 0x7f2d6637ed90>),\n",
              "                                ('pipeline-2',\n",
              "                                 Pipeline(steps=[('simpleimputer',\n",
              "                                                  SimpleImputer(strategy='median')),\n",
              "                                                 ('onehotencoder',\n",
              "                                                  OneHotEncoder(handle_unknown='ignore',\n",
              "                                                                sparse=False))]),\n",
              "                                 <sklearn.compose._column_transformer.make_column_selector object at 0x7f2d6637e7d0>)])"
            ],
            "text/html": [
              "<style>#sk-e37154a1-8da1-4cd6-b390-8e9ee7b67ef0 {color: black;background-color: white;}#sk-e37154a1-8da1-4cd6-b390-8e9ee7b67ef0 pre{padding: 0;}#sk-e37154a1-8da1-4cd6-b390-8e9ee7b67ef0 div.sk-toggleable {background-color: white;}#sk-e37154a1-8da1-4cd6-b390-8e9ee7b67ef0 label.sk-toggleable__label {cursor: pointer;display: block;width: 100%;margin-bottom: 0;padding: 0.3em;box-sizing: border-box;text-align: center;}#sk-e37154a1-8da1-4cd6-b390-8e9ee7b67ef0 label.sk-toggleable__label-arrow:before {content: \"▸\";float: left;margin-right: 0.25em;color: #696969;}#sk-e37154a1-8da1-4cd6-b390-8e9ee7b67ef0 label.sk-toggleable__label-arrow:hover:before {color: black;}#sk-e37154a1-8da1-4cd6-b390-8e9ee7b67ef0 div.sk-estimator:hover label.sk-toggleable__label-arrow:before {color: black;}#sk-e37154a1-8da1-4cd6-b390-8e9ee7b67ef0 div.sk-toggleable__content {max-height: 0;max-width: 0;overflow: hidden;text-align: left;background-color: #f0f8ff;}#sk-e37154a1-8da1-4cd6-b390-8e9ee7b67ef0 div.sk-toggleable__content pre {margin: 0.2em;color: black;border-radius: 0.25em;background-color: #f0f8ff;}#sk-e37154a1-8da1-4cd6-b390-8e9ee7b67ef0 input.sk-toggleable__control:checked~div.sk-toggleable__content {max-height: 200px;max-width: 100%;overflow: auto;}#sk-e37154a1-8da1-4cd6-b390-8e9ee7b67ef0 input.sk-toggleable__control:checked~label.sk-toggleable__label-arrow:before {content: \"▾\";}#sk-e37154a1-8da1-4cd6-b390-8e9ee7b67ef0 div.sk-estimator input.sk-toggleable__control:checked~label.sk-toggleable__label {background-color: #d4ebff;}#sk-e37154a1-8da1-4cd6-b390-8e9ee7b67ef0 div.sk-label input.sk-toggleable__control:checked~label.sk-toggleable__label {background-color: #d4ebff;}#sk-e37154a1-8da1-4cd6-b390-8e9ee7b67ef0 input.sk-hidden--visually {border: 0;clip: rect(1px 1px 1px 1px);clip: rect(1px, 1px, 1px, 1px);height: 1px;margin: -1px;overflow: hidden;padding: 0;position: absolute;width: 1px;}#sk-e37154a1-8da1-4cd6-b390-8e9ee7b67ef0 div.sk-estimator {font-family: monospace;background-color: #f0f8ff;border: 1px dotted black;border-radius: 0.25em;box-sizing: border-box;margin-bottom: 0.5em;}#sk-e37154a1-8da1-4cd6-b390-8e9ee7b67ef0 div.sk-estimator:hover {background-color: #d4ebff;}#sk-e37154a1-8da1-4cd6-b390-8e9ee7b67ef0 div.sk-parallel-item::after {content: \"\";width: 100%;border-bottom: 1px solid gray;flex-grow: 1;}#sk-e37154a1-8da1-4cd6-b390-8e9ee7b67ef0 div.sk-label:hover label.sk-toggleable__label {background-color: #d4ebff;}#sk-e37154a1-8da1-4cd6-b390-8e9ee7b67ef0 div.sk-serial::before {content: \"\";position: absolute;border-left: 1px solid gray;box-sizing: border-box;top: 2em;bottom: 0;left: 50%;}#sk-e37154a1-8da1-4cd6-b390-8e9ee7b67ef0 div.sk-serial {display: flex;flex-direction: column;align-items: center;background-color: white;padding-right: 0.2em;padding-left: 0.2em;}#sk-e37154a1-8da1-4cd6-b390-8e9ee7b67ef0 div.sk-item {z-index: 1;}#sk-e37154a1-8da1-4cd6-b390-8e9ee7b67ef0 div.sk-parallel {display: flex;align-items: stretch;justify-content: center;background-color: white;}#sk-e37154a1-8da1-4cd6-b390-8e9ee7b67ef0 div.sk-parallel::before {content: \"\";position: absolute;border-left: 1px solid gray;box-sizing: border-box;top: 2em;bottom: 0;left: 50%;}#sk-e37154a1-8da1-4cd6-b390-8e9ee7b67ef0 div.sk-parallel-item {display: flex;flex-direction: column;position: relative;background-color: white;}#sk-e37154a1-8da1-4cd6-b390-8e9ee7b67ef0 div.sk-parallel-item:first-child::after {align-self: flex-end;width: 50%;}#sk-e37154a1-8da1-4cd6-b390-8e9ee7b67ef0 div.sk-parallel-item:last-child::after {align-self: flex-start;width: 50%;}#sk-e37154a1-8da1-4cd6-b390-8e9ee7b67ef0 div.sk-parallel-item:only-child::after {width: 0;}#sk-e37154a1-8da1-4cd6-b390-8e9ee7b67ef0 div.sk-dashed-wrapped {border: 1px dashed gray;margin: 0 0.4em 0.5em 0.4em;box-sizing: border-box;padding-bottom: 0.4em;background-color: white;position: relative;}#sk-e37154a1-8da1-4cd6-b390-8e9ee7b67ef0 div.sk-label label {font-family: monospace;font-weight: bold;background-color: white;display: inline-block;line-height: 1.2em;}#sk-e37154a1-8da1-4cd6-b390-8e9ee7b67ef0 div.sk-label-container {position: relative;z-index: 2;text-align: center;}#sk-e37154a1-8da1-4cd6-b390-8e9ee7b67ef0 div.sk-container {/* jupyter's `normalize.less` sets `[hidden] { display: none; }` but bootstrap.min.css set `[hidden] { display: none !important; }` so we also need the `!important` here to be able to override the default hidden behavior on the sphinx rendered scikit-learn.org. See: https://github.com/scikit-learn/scikit-learn/issues/21755 */display: inline-block !important;position: relative;}#sk-e37154a1-8da1-4cd6-b390-8e9ee7b67ef0 div.sk-text-repr-fallback {display: none;}</style><div id=\"sk-e37154a1-8da1-4cd6-b390-8e9ee7b67ef0\" class=\"sk-top-container\"><div class=\"sk-text-repr-fallback\"><pre>ColumnTransformer(transformers=[(&#x27;pipeline-1&#x27;,\n",
              "                                 Pipeline(steps=[(&#x27;simpleimputer&#x27;,\n",
              "                                                  SimpleImputer(strategy=&#x27;median&#x27;)),\n",
              "                                                 (&#x27;standardscaler&#x27;,\n",
              "                                                  StandardScaler())]),\n",
              "                                 &lt;sklearn.compose._column_transformer.make_column_selector object at 0x7f2d6637ed90&gt;),\n",
              "                                (&#x27;pipeline-2&#x27;,\n",
              "                                 Pipeline(steps=[(&#x27;simpleimputer&#x27;,\n",
              "                                                  SimpleImputer(strategy=&#x27;median&#x27;)),\n",
              "                                                 (&#x27;onehotencoder&#x27;,\n",
              "                                                  OneHotEncoder(handle_unknown=&#x27;ignore&#x27;,\n",
              "                                                                sparse=False))]),\n",
              "                                 &lt;sklearn.compose._column_transformer.make_column_selector object at 0x7f2d6637e7d0&gt;)])</pre><b>Please rerun this cell to show the HTML repr or trust the notebook.</b></div><div class=\"sk-container\" hidden><div class=\"sk-item sk-dashed-wrapped\"><div class=\"sk-label-container\"><div class=\"sk-label sk-toggleable\"><input class=\"sk-toggleable__control sk-hidden--visually\" id=\"d1600d33-36f7-4e66-827a-8efbd653f110\" type=\"checkbox\" ><label for=\"d1600d33-36f7-4e66-827a-8efbd653f110\" class=\"sk-toggleable__label sk-toggleable__label-arrow\">ColumnTransformer</label><div class=\"sk-toggleable__content\"><pre>ColumnTransformer(transformers=[(&#x27;pipeline-1&#x27;,\n",
              "                                 Pipeline(steps=[(&#x27;simpleimputer&#x27;,\n",
              "                                                  SimpleImputer(strategy=&#x27;median&#x27;)),\n",
              "                                                 (&#x27;standardscaler&#x27;,\n",
              "                                                  StandardScaler())]),\n",
              "                                 &lt;sklearn.compose._column_transformer.make_column_selector object at 0x7f2d6637ed90&gt;),\n",
              "                                (&#x27;pipeline-2&#x27;,\n",
              "                                 Pipeline(steps=[(&#x27;simpleimputer&#x27;,\n",
              "                                                  SimpleImputer(strategy=&#x27;median&#x27;)),\n",
              "                                                 (&#x27;onehotencoder&#x27;,\n",
              "                                                  OneHotEncoder(handle_unknown=&#x27;ignore&#x27;,\n",
              "                                                                sparse=False))]),\n",
              "                                 &lt;sklearn.compose._column_transformer.make_column_selector object at 0x7f2d6637e7d0&gt;)])</pre></div></div></div><div class=\"sk-parallel\"><div class=\"sk-parallel-item\"><div class=\"sk-item\"><div class=\"sk-label-container\"><div class=\"sk-label sk-toggleable\"><input class=\"sk-toggleable__control sk-hidden--visually\" id=\"9da3e0e9-9c15-41b6-ba1c-99d4c939339e\" type=\"checkbox\" ><label for=\"9da3e0e9-9c15-41b6-ba1c-99d4c939339e\" class=\"sk-toggleable__label sk-toggleable__label-arrow\">pipeline-1</label><div class=\"sk-toggleable__content\"><pre>&lt;sklearn.compose._column_transformer.make_column_selector object at 0x7f2d6637ed90&gt;</pre></div></div></div><div class=\"sk-serial\"><div class=\"sk-item\"><div class=\"sk-serial\"><div class=\"sk-item\"><div class=\"sk-estimator sk-toggleable\"><input class=\"sk-toggleable__control sk-hidden--visually\" id=\"70f6d668-367e-4d35-8e20-058d1f13a430\" type=\"checkbox\" ><label for=\"70f6d668-367e-4d35-8e20-058d1f13a430\" class=\"sk-toggleable__label sk-toggleable__label-arrow\">SimpleImputer</label><div class=\"sk-toggleable__content\"><pre>SimpleImputer(strategy=&#x27;median&#x27;)</pre></div></div></div><div class=\"sk-item\"><div class=\"sk-estimator sk-toggleable\"><input class=\"sk-toggleable__control sk-hidden--visually\" id=\"2e160002-f6d5-493d-a3dc-3c96a19589f3\" type=\"checkbox\" ><label for=\"2e160002-f6d5-493d-a3dc-3c96a19589f3\" class=\"sk-toggleable__label sk-toggleable__label-arrow\">StandardScaler</label><div class=\"sk-toggleable__content\"><pre>StandardScaler()</pre></div></div></div></div></div></div></div></div><div class=\"sk-parallel-item\"><div class=\"sk-item\"><div class=\"sk-label-container\"><div class=\"sk-label sk-toggleable\"><input class=\"sk-toggleable__control sk-hidden--visually\" id=\"1baa18a0-74a4-4ad0-910c-3369d9e78bbb\" type=\"checkbox\" ><label for=\"1baa18a0-74a4-4ad0-910c-3369d9e78bbb\" class=\"sk-toggleable__label sk-toggleable__label-arrow\">pipeline-2</label><div class=\"sk-toggleable__content\"><pre>&lt;sklearn.compose._column_transformer.make_column_selector object at 0x7f2d6637e7d0&gt;</pre></div></div></div><div class=\"sk-serial\"><div class=\"sk-item\"><div class=\"sk-serial\"><div class=\"sk-item\"><div class=\"sk-estimator sk-toggleable\"><input class=\"sk-toggleable__control sk-hidden--visually\" id=\"c5280833-452f-4d82-97da-be1b6e025f81\" type=\"checkbox\" ><label for=\"c5280833-452f-4d82-97da-be1b6e025f81\" class=\"sk-toggleable__label sk-toggleable__label-arrow\">SimpleImputer</label><div class=\"sk-toggleable__content\"><pre>SimpleImputer(strategy=&#x27;median&#x27;)</pre></div></div></div><div class=\"sk-item\"><div class=\"sk-estimator sk-toggleable\"><input class=\"sk-toggleable__control sk-hidden--visually\" id=\"2eb0b3e7-05f7-47b6-9c7e-5af84771c2fe\" type=\"checkbox\" ><label for=\"2eb0b3e7-05f7-47b6-9c7e-5af84771c2fe\" class=\"sk-toggleable__label sk-toggleable__label-arrow\">OneHotEncoder</label><div class=\"sk-toggleable__content\"><pre>OneHotEncoder(handle_unknown=&#x27;ignore&#x27;, sparse=False)</pre></div></div></div></div></div></div></div></div></div></div></div></div>"
            ]
          },
          "metadata": {},
          "execution_count": 36
        }
      ]
    },
    {
      "cell_type": "code",
      "source": [
        "# ColumnTransformer\n",
        "preprocessor = make_column_transformer(number_tuple, category_tuple)\n",
        "preprocessor"
      ],
      "metadata": {
        "colab": {
          "base_uri": "https://localhost:8080/",
          "height": 152
        },
        "id": "FLcrdzRhcz-U",
        "outputId": "4172ac24-c0e7-4f10-ad2d-48e8597fa3d6"
      },
      "execution_count": null,
      "outputs": [
        {
          "output_type": "execute_result",
          "data": {
            "text/plain": [
              "ColumnTransformer(transformers=[('pipeline-1',\n",
              "                                 Pipeline(steps=[('simpleimputer',\n",
              "                                                  SimpleImputer(strategy='median')),\n",
              "                                                 ('standardscaler',\n",
              "                                                  StandardScaler())]),\n",
              "                                 <sklearn.compose._column_transformer.make_column_selector object at 0x7f2d6637ed90>),\n",
              "                                ('pipeline-2',\n",
              "                                 Pipeline(steps=[('simpleimputer',\n",
              "                                                  SimpleImputer(strategy='median')),\n",
              "                                                 ('onehotencoder',\n",
              "                                                  OneHotEncoder(handle_unknown='ignore',\n",
              "                                                                sparse=False))]),\n",
              "                                 <sklearn.compose._column_transformer.make_column_selector object at 0x7f2d6637e7d0>)])"
            ],
            "text/html": [
              "<style>#sk-f754601a-0dcd-45a3-adf8-a3249ee86be5 {color: black;background-color: white;}#sk-f754601a-0dcd-45a3-adf8-a3249ee86be5 pre{padding: 0;}#sk-f754601a-0dcd-45a3-adf8-a3249ee86be5 div.sk-toggleable {background-color: white;}#sk-f754601a-0dcd-45a3-adf8-a3249ee86be5 label.sk-toggleable__label {cursor: pointer;display: block;width: 100%;margin-bottom: 0;padding: 0.3em;box-sizing: border-box;text-align: center;}#sk-f754601a-0dcd-45a3-adf8-a3249ee86be5 label.sk-toggleable__label-arrow:before {content: \"▸\";float: left;margin-right: 0.25em;color: #696969;}#sk-f754601a-0dcd-45a3-adf8-a3249ee86be5 label.sk-toggleable__label-arrow:hover:before {color: black;}#sk-f754601a-0dcd-45a3-adf8-a3249ee86be5 div.sk-estimator:hover label.sk-toggleable__label-arrow:before {color: black;}#sk-f754601a-0dcd-45a3-adf8-a3249ee86be5 div.sk-toggleable__content {max-height: 0;max-width: 0;overflow: hidden;text-align: left;background-color: #f0f8ff;}#sk-f754601a-0dcd-45a3-adf8-a3249ee86be5 div.sk-toggleable__content pre {margin: 0.2em;color: black;border-radius: 0.25em;background-color: #f0f8ff;}#sk-f754601a-0dcd-45a3-adf8-a3249ee86be5 input.sk-toggleable__control:checked~div.sk-toggleable__content {max-height: 200px;max-width: 100%;overflow: auto;}#sk-f754601a-0dcd-45a3-adf8-a3249ee86be5 input.sk-toggleable__control:checked~label.sk-toggleable__label-arrow:before {content: \"▾\";}#sk-f754601a-0dcd-45a3-adf8-a3249ee86be5 div.sk-estimator input.sk-toggleable__control:checked~label.sk-toggleable__label {background-color: #d4ebff;}#sk-f754601a-0dcd-45a3-adf8-a3249ee86be5 div.sk-label input.sk-toggleable__control:checked~label.sk-toggleable__label {background-color: #d4ebff;}#sk-f754601a-0dcd-45a3-adf8-a3249ee86be5 input.sk-hidden--visually {border: 0;clip: rect(1px 1px 1px 1px);clip: rect(1px, 1px, 1px, 1px);height: 1px;margin: -1px;overflow: hidden;padding: 0;position: absolute;width: 1px;}#sk-f754601a-0dcd-45a3-adf8-a3249ee86be5 div.sk-estimator {font-family: monospace;background-color: #f0f8ff;border: 1px dotted black;border-radius: 0.25em;box-sizing: border-box;margin-bottom: 0.5em;}#sk-f754601a-0dcd-45a3-adf8-a3249ee86be5 div.sk-estimator:hover {background-color: #d4ebff;}#sk-f754601a-0dcd-45a3-adf8-a3249ee86be5 div.sk-parallel-item::after {content: \"\";width: 100%;border-bottom: 1px solid gray;flex-grow: 1;}#sk-f754601a-0dcd-45a3-adf8-a3249ee86be5 div.sk-label:hover label.sk-toggleable__label {background-color: #d4ebff;}#sk-f754601a-0dcd-45a3-adf8-a3249ee86be5 div.sk-serial::before {content: \"\";position: absolute;border-left: 1px solid gray;box-sizing: border-box;top: 2em;bottom: 0;left: 50%;}#sk-f754601a-0dcd-45a3-adf8-a3249ee86be5 div.sk-serial {display: flex;flex-direction: column;align-items: center;background-color: white;padding-right: 0.2em;padding-left: 0.2em;}#sk-f754601a-0dcd-45a3-adf8-a3249ee86be5 div.sk-item {z-index: 1;}#sk-f754601a-0dcd-45a3-adf8-a3249ee86be5 div.sk-parallel {display: flex;align-items: stretch;justify-content: center;background-color: white;}#sk-f754601a-0dcd-45a3-adf8-a3249ee86be5 div.sk-parallel::before {content: \"\";position: absolute;border-left: 1px solid gray;box-sizing: border-box;top: 2em;bottom: 0;left: 50%;}#sk-f754601a-0dcd-45a3-adf8-a3249ee86be5 div.sk-parallel-item {display: flex;flex-direction: column;position: relative;background-color: white;}#sk-f754601a-0dcd-45a3-adf8-a3249ee86be5 div.sk-parallel-item:first-child::after {align-self: flex-end;width: 50%;}#sk-f754601a-0dcd-45a3-adf8-a3249ee86be5 div.sk-parallel-item:last-child::after {align-self: flex-start;width: 50%;}#sk-f754601a-0dcd-45a3-adf8-a3249ee86be5 div.sk-parallel-item:only-child::after {width: 0;}#sk-f754601a-0dcd-45a3-adf8-a3249ee86be5 div.sk-dashed-wrapped {border: 1px dashed gray;margin: 0 0.4em 0.5em 0.4em;box-sizing: border-box;padding-bottom: 0.4em;background-color: white;position: relative;}#sk-f754601a-0dcd-45a3-adf8-a3249ee86be5 div.sk-label label {font-family: monospace;font-weight: bold;background-color: white;display: inline-block;line-height: 1.2em;}#sk-f754601a-0dcd-45a3-adf8-a3249ee86be5 div.sk-label-container {position: relative;z-index: 2;text-align: center;}#sk-f754601a-0dcd-45a3-adf8-a3249ee86be5 div.sk-container {/* jupyter's `normalize.less` sets `[hidden] { display: none; }` but bootstrap.min.css set `[hidden] { display: none !important; }` so we also need the `!important` here to be able to override the default hidden behavior on the sphinx rendered scikit-learn.org. See: https://github.com/scikit-learn/scikit-learn/issues/21755 */display: inline-block !important;position: relative;}#sk-f754601a-0dcd-45a3-adf8-a3249ee86be5 div.sk-text-repr-fallback {display: none;}</style><div id=\"sk-f754601a-0dcd-45a3-adf8-a3249ee86be5\" class=\"sk-top-container\"><div class=\"sk-text-repr-fallback\"><pre>ColumnTransformer(transformers=[(&#x27;pipeline-1&#x27;,\n",
              "                                 Pipeline(steps=[(&#x27;simpleimputer&#x27;,\n",
              "                                                  SimpleImputer(strategy=&#x27;median&#x27;)),\n",
              "                                                 (&#x27;standardscaler&#x27;,\n",
              "                                                  StandardScaler())]),\n",
              "                                 &lt;sklearn.compose._column_transformer.make_column_selector object at 0x7f2d6637ed90&gt;),\n",
              "                                (&#x27;pipeline-2&#x27;,\n",
              "                                 Pipeline(steps=[(&#x27;simpleimputer&#x27;,\n",
              "                                                  SimpleImputer(strategy=&#x27;median&#x27;)),\n",
              "                                                 (&#x27;onehotencoder&#x27;,\n",
              "                                                  OneHotEncoder(handle_unknown=&#x27;ignore&#x27;,\n",
              "                                                                sparse=False))]),\n",
              "                                 &lt;sklearn.compose._column_transformer.make_column_selector object at 0x7f2d6637e7d0&gt;)])</pre><b>Please rerun this cell to show the HTML repr or trust the notebook.</b></div><div class=\"sk-container\" hidden><div class=\"sk-item sk-dashed-wrapped\"><div class=\"sk-label-container\"><div class=\"sk-label sk-toggleable\"><input class=\"sk-toggleable__control sk-hidden--visually\" id=\"698c36b6-9d79-4f62-a90e-1a67c916bc9e\" type=\"checkbox\" ><label for=\"698c36b6-9d79-4f62-a90e-1a67c916bc9e\" class=\"sk-toggleable__label sk-toggleable__label-arrow\">ColumnTransformer</label><div class=\"sk-toggleable__content\"><pre>ColumnTransformer(transformers=[(&#x27;pipeline-1&#x27;,\n",
              "                                 Pipeline(steps=[(&#x27;simpleimputer&#x27;,\n",
              "                                                  SimpleImputer(strategy=&#x27;median&#x27;)),\n",
              "                                                 (&#x27;standardscaler&#x27;,\n",
              "                                                  StandardScaler())]),\n",
              "                                 &lt;sklearn.compose._column_transformer.make_column_selector object at 0x7f2d6637ed90&gt;),\n",
              "                                (&#x27;pipeline-2&#x27;,\n",
              "                                 Pipeline(steps=[(&#x27;simpleimputer&#x27;,\n",
              "                                                  SimpleImputer(strategy=&#x27;median&#x27;)),\n",
              "                                                 (&#x27;onehotencoder&#x27;,\n",
              "                                                  OneHotEncoder(handle_unknown=&#x27;ignore&#x27;,\n",
              "                                                                sparse=False))]),\n",
              "                                 &lt;sklearn.compose._column_transformer.make_column_selector object at 0x7f2d6637e7d0&gt;)])</pre></div></div></div><div class=\"sk-parallel\"><div class=\"sk-parallel-item\"><div class=\"sk-item\"><div class=\"sk-label-container\"><div class=\"sk-label sk-toggleable\"><input class=\"sk-toggleable__control sk-hidden--visually\" id=\"43a82bca-6120-4ef4-9581-44373f38db72\" type=\"checkbox\" ><label for=\"43a82bca-6120-4ef4-9581-44373f38db72\" class=\"sk-toggleable__label sk-toggleable__label-arrow\">pipeline-1</label><div class=\"sk-toggleable__content\"><pre>&lt;sklearn.compose._column_transformer.make_column_selector object at 0x7f2d6637ed90&gt;</pre></div></div></div><div class=\"sk-serial\"><div class=\"sk-item\"><div class=\"sk-serial\"><div class=\"sk-item\"><div class=\"sk-estimator sk-toggleable\"><input class=\"sk-toggleable__control sk-hidden--visually\" id=\"f84bae7a-7cb3-4929-88b9-7ef4e77ad415\" type=\"checkbox\" ><label for=\"f84bae7a-7cb3-4929-88b9-7ef4e77ad415\" class=\"sk-toggleable__label sk-toggleable__label-arrow\">SimpleImputer</label><div class=\"sk-toggleable__content\"><pre>SimpleImputer(strategy=&#x27;median&#x27;)</pre></div></div></div><div class=\"sk-item\"><div class=\"sk-estimator sk-toggleable\"><input class=\"sk-toggleable__control sk-hidden--visually\" id=\"e0925f3e-f375-41cd-95b7-44260ecf151c\" type=\"checkbox\" ><label for=\"e0925f3e-f375-41cd-95b7-44260ecf151c\" class=\"sk-toggleable__label sk-toggleable__label-arrow\">StandardScaler</label><div class=\"sk-toggleable__content\"><pre>StandardScaler()</pre></div></div></div></div></div></div></div></div><div class=\"sk-parallel-item\"><div class=\"sk-item\"><div class=\"sk-label-container\"><div class=\"sk-label sk-toggleable\"><input class=\"sk-toggleable__control sk-hidden--visually\" id=\"2b39cb0f-93a4-477b-b782-fc3b4b8b0c73\" type=\"checkbox\" ><label for=\"2b39cb0f-93a4-477b-b782-fc3b4b8b0c73\" class=\"sk-toggleable__label sk-toggleable__label-arrow\">pipeline-2</label><div class=\"sk-toggleable__content\"><pre>&lt;sklearn.compose._column_transformer.make_column_selector object at 0x7f2d6637e7d0&gt;</pre></div></div></div><div class=\"sk-serial\"><div class=\"sk-item\"><div class=\"sk-serial\"><div class=\"sk-item\"><div class=\"sk-estimator sk-toggleable\"><input class=\"sk-toggleable__control sk-hidden--visually\" id=\"7f5c6801-f2d0-4258-b439-2c2a60646b0e\" type=\"checkbox\" ><label for=\"7f5c6801-f2d0-4258-b439-2c2a60646b0e\" class=\"sk-toggleable__label sk-toggleable__label-arrow\">SimpleImputer</label><div class=\"sk-toggleable__content\"><pre>SimpleImputer(strategy=&#x27;median&#x27;)</pre></div></div></div><div class=\"sk-item\"><div class=\"sk-estimator sk-toggleable\"><input class=\"sk-toggleable__control sk-hidden--visually\" id=\"ebee2103-b403-4b4d-94c5-6a1d542f31f6\" type=\"checkbox\" ><label for=\"ebee2103-b403-4b4d-94c5-6a1d542f31f6\" class=\"sk-toggleable__label sk-toggleable__label-arrow\">OneHotEncoder</label><div class=\"sk-toggleable__content\"><pre>OneHotEncoder(handle_unknown=&#x27;ignore&#x27;, sparse=False)</pre></div></div></div></div></div></div></div></div></div></div></div></div>"
            ]
          },
          "metadata": {},
          "execution_count": 37
        }
      ]
    },
    {
      "cell_type": "code",
      "source": [
        "# Fit Data on Training Set\n",
        "\n",
        "preprocessor.fit(X_train_knn)"
      ],
      "metadata": {
        "colab": {
          "base_uri": "https://localhost:8080/",
          "height": 152
        },
        "id": "Yv5jdi93d-sg",
        "outputId": "b97c6959-b3d2-4736-c939-30707f4a131d"
      },
      "execution_count": null,
      "outputs": [
        {
          "output_type": "execute_result",
          "data": {
            "text/plain": [
              "ColumnTransformer(transformers=[('pipeline-1',\n",
              "                                 Pipeline(steps=[('simpleimputer',\n",
              "                                                  SimpleImputer(strategy='median')),\n",
              "                                                 ('standardscaler',\n",
              "                                                  StandardScaler())]),\n",
              "                                 <sklearn.compose._column_transformer.make_column_selector object at 0x7f2d6637ed90>),\n",
              "                                ('pipeline-2',\n",
              "                                 Pipeline(steps=[('simpleimputer',\n",
              "                                                  SimpleImputer(strategy='median')),\n",
              "                                                 ('onehotencoder',\n",
              "                                                  OneHotEncoder(handle_unknown='ignore',\n",
              "                                                                sparse=False))]),\n",
              "                                 <sklearn.compose._column_transformer.make_column_selector object at 0x7f2d6637e7d0>)])"
            ],
            "text/html": [
              "<style>#sk-a23a3de1-084b-46b3-b84b-6ff7c30ebaf1 {color: black;background-color: white;}#sk-a23a3de1-084b-46b3-b84b-6ff7c30ebaf1 pre{padding: 0;}#sk-a23a3de1-084b-46b3-b84b-6ff7c30ebaf1 div.sk-toggleable {background-color: white;}#sk-a23a3de1-084b-46b3-b84b-6ff7c30ebaf1 label.sk-toggleable__label {cursor: pointer;display: block;width: 100%;margin-bottom: 0;padding: 0.3em;box-sizing: border-box;text-align: center;}#sk-a23a3de1-084b-46b3-b84b-6ff7c30ebaf1 label.sk-toggleable__label-arrow:before {content: \"▸\";float: left;margin-right: 0.25em;color: #696969;}#sk-a23a3de1-084b-46b3-b84b-6ff7c30ebaf1 label.sk-toggleable__label-arrow:hover:before {color: black;}#sk-a23a3de1-084b-46b3-b84b-6ff7c30ebaf1 div.sk-estimator:hover label.sk-toggleable__label-arrow:before {color: black;}#sk-a23a3de1-084b-46b3-b84b-6ff7c30ebaf1 div.sk-toggleable__content {max-height: 0;max-width: 0;overflow: hidden;text-align: left;background-color: #f0f8ff;}#sk-a23a3de1-084b-46b3-b84b-6ff7c30ebaf1 div.sk-toggleable__content pre {margin: 0.2em;color: black;border-radius: 0.25em;background-color: #f0f8ff;}#sk-a23a3de1-084b-46b3-b84b-6ff7c30ebaf1 input.sk-toggleable__control:checked~div.sk-toggleable__content {max-height: 200px;max-width: 100%;overflow: auto;}#sk-a23a3de1-084b-46b3-b84b-6ff7c30ebaf1 input.sk-toggleable__control:checked~label.sk-toggleable__label-arrow:before {content: \"▾\";}#sk-a23a3de1-084b-46b3-b84b-6ff7c30ebaf1 div.sk-estimator input.sk-toggleable__control:checked~label.sk-toggleable__label {background-color: #d4ebff;}#sk-a23a3de1-084b-46b3-b84b-6ff7c30ebaf1 div.sk-label input.sk-toggleable__control:checked~label.sk-toggleable__label {background-color: #d4ebff;}#sk-a23a3de1-084b-46b3-b84b-6ff7c30ebaf1 input.sk-hidden--visually {border: 0;clip: rect(1px 1px 1px 1px);clip: rect(1px, 1px, 1px, 1px);height: 1px;margin: -1px;overflow: hidden;padding: 0;position: absolute;width: 1px;}#sk-a23a3de1-084b-46b3-b84b-6ff7c30ebaf1 div.sk-estimator {font-family: monospace;background-color: #f0f8ff;border: 1px dotted black;border-radius: 0.25em;box-sizing: border-box;margin-bottom: 0.5em;}#sk-a23a3de1-084b-46b3-b84b-6ff7c30ebaf1 div.sk-estimator:hover {background-color: #d4ebff;}#sk-a23a3de1-084b-46b3-b84b-6ff7c30ebaf1 div.sk-parallel-item::after {content: \"\";width: 100%;border-bottom: 1px solid gray;flex-grow: 1;}#sk-a23a3de1-084b-46b3-b84b-6ff7c30ebaf1 div.sk-label:hover label.sk-toggleable__label {background-color: #d4ebff;}#sk-a23a3de1-084b-46b3-b84b-6ff7c30ebaf1 div.sk-serial::before {content: \"\";position: absolute;border-left: 1px solid gray;box-sizing: border-box;top: 2em;bottom: 0;left: 50%;}#sk-a23a3de1-084b-46b3-b84b-6ff7c30ebaf1 div.sk-serial {display: flex;flex-direction: column;align-items: center;background-color: white;padding-right: 0.2em;padding-left: 0.2em;}#sk-a23a3de1-084b-46b3-b84b-6ff7c30ebaf1 div.sk-item {z-index: 1;}#sk-a23a3de1-084b-46b3-b84b-6ff7c30ebaf1 div.sk-parallel {display: flex;align-items: stretch;justify-content: center;background-color: white;}#sk-a23a3de1-084b-46b3-b84b-6ff7c30ebaf1 div.sk-parallel::before {content: \"\";position: absolute;border-left: 1px solid gray;box-sizing: border-box;top: 2em;bottom: 0;left: 50%;}#sk-a23a3de1-084b-46b3-b84b-6ff7c30ebaf1 div.sk-parallel-item {display: flex;flex-direction: column;position: relative;background-color: white;}#sk-a23a3de1-084b-46b3-b84b-6ff7c30ebaf1 div.sk-parallel-item:first-child::after {align-self: flex-end;width: 50%;}#sk-a23a3de1-084b-46b3-b84b-6ff7c30ebaf1 div.sk-parallel-item:last-child::after {align-self: flex-start;width: 50%;}#sk-a23a3de1-084b-46b3-b84b-6ff7c30ebaf1 div.sk-parallel-item:only-child::after {width: 0;}#sk-a23a3de1-084b-46b3-b84b-6ff7c30ebaf1 div.sk-dashed-wrapped {border: 1px dashed gray;margin: 0 0.4em 0.5em 0.4em;box-sizing: border-box;padding-bottom: 0.4em;background-color: white;position: relative;}#sk-a23a3de1-084b-46b3-b84b-6ff7c30ebaf1 div.sk-label label {font-family: monospace;font-weight: bold;background-color: white;display: inline-block;line-height: 1.2em;}#sk-a23a3de1-084b-46b3-b84b-6ff7c30ebaf1 div.sk-label-container {position: relative;z-index: 2;text-align: center;}#sk-a23a3de1-084b-46b3-b84b-6ff7c30ebaf1 div.sk-container {/* jupyter's `normalize.less` sets `[hidden] { display: none; }` but bootstrap.min.css set `[hidden] { display: none !important; }` so we also need the `!important` here to be able to override the default hidden behavior on the sphinx rendered scikit-learn.org. See: https://github.com/scikit-learn/scikit-learn/issues/21755 */display: inline-block !important;position: relative;}#sk-a23a3de1-084b-46b3-b84b-6ff7c30ebaf1 div.sk-text-repr-fallback {display: none;}</style><div id=\"sk-a23a3de1-084b-46b3-b84b-6ff7c30ebaf1\" class=\"sk-top-container\"><div class=\"sk-text-repr-fallback\"><pre>ColumnTransformer(transformers=[(&#x27;pipeline-1&#x27;,\n",
              "                                 Pipeline(steps=[(&#x27;simpleimputer&#x27;,\n",
              "                                                  SimpleImputer(strategy=&#x27;median&#x27;)),\n",
              "                                                 (&#x27;standardscaler&#x27;,\n",
              "                                                  StandardScaler())]),\n",
              "                                 &lt;sklearn.compose._column_transformer.make_column_selector object at 0x7f2d6637ed90&gt;),\n",
              "                                (&#x27;pipeline-2&#x27;,\n",
              "                                 Pipeline(steps=[(&#x27;simpleimputer&#x27;,\n",
              "                                                  SimpleImputer(strategy=&#x27;median&#x27;)),\n",
              "                                                 (&#x27;onehotencoder&#x27;,\n",
              "                                                  OneHotEncoder(handle_unknown=&#x27;ignore&#x27;,\n",
              "                                                                sparse=False))]),\n",
              "                                 &lt;sklearn.compose._column_transformer.make_column_selector object at 0x7f2d6637e7d0&gt;)])</pre><b>Please rerun this cell to show the HTML repr or trust the notebook.</b></div><div class=\"sk-container\" hidden><div class=\"sk-item sk-dashed-wrapped\"><div class=\"sk-label-container\"><div class=\"sk-label sk-toggleable\"><input class=\"sk-toggleable__control sk-hidden--visually\" id=\"5d1125b6-3794-4b8b-bd97-6667951e463e\" type=\"checkbox\" ><label for=\"5d1125b6-3794-4b8b-bd97-6667951e463e\" class=\"sk-toggleable__label sk-toggleable__label-arrow\">ColumnTransformer</label><div class=\"sk-toggleable__content\"><pre>ColumnTransformer(transformers=[(&#x27;pipeline-1&#x27;,\n",
              "                                 Pipeline(steps=[(&#x27;simpleimputer&#x27;,\n",
              "                                                  SimpleImputer(strategy=&#x27;median&#x27;)),\n",
              "                                                 (&#x27;standardscaler&#x27;,\n",
              "                                                  StandardScaler())]),\n",
              "                                 &lt;sklearn.compose._column_transformer.make_column_selector object at 0x7f2d6637ed90&gt;),\n",
              "                                (&#x27;pipeline-2&#x27;,\n",
              "                                 Pipeline(steps=[(&#x27;simpleimputer&#x27;,\n",
              "                                                  SimpleImputer(strategy=&#x27;median&#x27;)),\n",
              "                                                 (&#x27;onehotencoder&#x27;,\n",
              "                                                  OneHotEncoder(handle_unknown=&#x27;ignore&#x27;,\n",
              "                                                                sparse=False))]),\n",
              "                                 &lt;sklearn.compose._column_transformer.make_column_selector object at 0x7f2d6637e7d0&gt;)])</pre></div></div></div><div class=\"sk-parallel\"><div class=\"sk-parallel-item\"><div class=\"sk-item\"><div class=\"sk-label-container\"><div class=\"sk-label sk-toggleable\"><input class=\"sk-toggleable__control sk-hidden--visually\" id=\"3acf2256-1e97-4976-a811-61e54ad558fd\" type=\"checkbox\" ><label for=\"3acf2256-1e97-4976-a811-61e54ad558fd\" class=\"sk-toggleable__label sk-toggleable__label-arrow\">pipeline-1</label><div class=\"sk-toggleable__content\"><pre>&lt;sklearn.compose._column_transformer.make_column_selector object at 0x7f2d6637ed90&gt;</pre></div></div></div><div class=\"sk-serial\"><div class=\"sk-item\"><div class=\"sk-serial\"><div class=\"sk-item\"><div class=\"sk-estimator sk-toggleable\"><input class=\"sk-toggleable__control sk-hidden--visually\" id=\"6d7decc6-e3c9-4464-8e65-060f9dc12aad\" type=\"checkbox\" ><label for=\"6d7decc6-e3c9-4464-8e65-060f9dc12aad\" class=\"sk-toggleable__label sk-toggleable__label-arrow\">SimpleImputer</label><div class=\"sk-toggleable__content\"><pre>SimpleImputer(strategy=&#x27;median&#x27;)</pre></div></div></div><div class=\"sk-item\"><div class=\"sk-estimator sk-toggleable\"><input class=\"sk-toggleable__control sk-hidden--visually\" id=\"adbd6771-9e7a-4b75-8059-95f5dc3ba9c4\" type=\"checkbox\" ><label for=\"adbd6771-9e7a-4b75-8059-95f5dc3ba9c4\" class=\"sk-toggleable__label sk-toggleable__label-arrow\">StandardScaler</label><div class=\"sk-toggleable__content\"><pre>StandardScaler()</pre></div></div></div></div></div></div></div></div><div class=\"sk-parallel-item\"><div class=\"sk-item\"><div class=\"sk-label-container\"><div class=\"sk-label sk-toggleable\"><input class=\"sk-toggleable__control sk-hidden--visually\" id=\"128a9a6a-d9be-4c86-9cf8-92b718667997\" type=\"checkbox\" ><label for=\"128a9a6a-d9be-4c86-9cf8-92b718667997\" class=\"sk-toggleable__label sk-toggleable__label-arrow\">pipeline-2</label><div class=\"sk-toggleable__content\"><pre>&lt;sklearn.compose._column_transformer.make_column_selector object at 0x7f2d6637e7d0&gt;</pre></div></div></div><div class=\"sk-serial\"><div class=\"sk-item\"><div class=\"sk-serial\"><div class=\"sk-item\"><div class=\"sk-estimator sk-toggleable\"><input class=\"sk-toggleable__control sk-hidden--visually\" id=\"da3fce63-7dbf-4d24-b45b-97683d1aed46\" type=\"checkbox\" ><label for=\"da3fce63-7dbf-4d24-b45b-97683d1aed46\" class=\"sk-toggleable__label sk-toggleable__label-arrow\">SimpleImputer</label><div class=\"sk-toggleable__content\"><pre>SimpleImputer(strategy=&#x27;median&#x27;)</pre></div></div></div><div class=\"sk-item\"><div class=\"sk-estimator sk-toggleable\"><input class=\"sk-toggleable__control sk-hidden--visually\" id=\"caa8a773-e6dd-4fb2-acdb-6a5ed5004032\" type=\"checkbox\" ><label for=\"caa8a773-e6dd-4fb2-acdb-6a5ed5004032\" class=\"sk-toggleable__label sk-toggleable__label-arrow\">OneHotEncoder</label><div class=\"sk-toggleable__content\"><pre>OneHotEncoder(handle_unknown=&#x27;ignore&#x27;, sparse=False)</pre></div></div></div></div></div></div></div></div></div></div></div></div>"
            ]
          },
          "metadata": {},
          "execution_count": 38
        }
      ]
    },
    {
      "cell_type": "code",
      "source": [
        "# transform train and test (X)\n",
        "X_train_knn = preprocessor.transform(X_train_knn)\n",
        "X_test_knn = preprocessor.transform(X_test_knn)"
      ],
      "metadata": {
        "id": "ymhAQ9zqdAW9"
      },
      "execution_count": null,
      "outputs": []
    },
    {
      "cell_type": "code",
      "source": [
        "# Check for Missind Data\n",
        "print(np.isnan(X_train_knn).sum().sum(), 'missing values in training data')\n",
        "print(np.isnan(X_test_knn).sum().sum(), 'missing values in testing data')"
      ],
      "metadata": {
        "colab": {
          "base_uri": "https://localhost:8080/"
        },
        "id": "Cl242Ht-oCmF",
        "outputId": "c0060994-909a-4e53-ce67-6117b8cdbfae"
      },
      "execution_count": null,
      "outputs": [
        {
          "output_type": "stream",
          "name": "stdout",
          "text": [
            "0 missing values in training data\n",
            "0 missing values in testing data\n"
          ]
        }
      ]
    },
    {
      "cell_type": "markdown",
      "source": [
        "###### KNN Classification Proper"
      ],
      "metadata": {
        "id": "iBmzcp3ygPJB"
      }
    },
    {
      "cell_type": "code",
      "source": [
        "#Create a pipeline with a StandardScaler and KNN Classifier\n",
        "knn = KNeighborsClassifier()\n",
        "knn_pipeline = make_pipeline(scaler, knn)\n",
        "\n",
        "# Fit to KNN Pipelines\n",
        "knn_pipeline.fit(X_train_knn, y_train_knn)"
      ],
      "metadata": {
        "colab": {
          "base_uri": "https://localhost:8080/",
          "height": 126
        },
        "id": "b2Vp4IQzgSCx",
        "outputId": "9de140dc-7e51-41dc-fc03-96bce34504c7"
      },
      "execution_count": null,
      "outputs": [
        {
          "output_type": "execute_result",
          "data": {
            "text/plain": [
              "Pipeline(steps=[('standardscaler', StandardScaler()),\n",
              "                ('kneighborsclassifier', KNeighborsClassifier())])"
            ],
            "text/html": [
              "<style>#sk-3a381404-69d1-4771-958c-b00b038a53f2 {color: black;background-color: white;}#sk-3a381404-69d1-4771-958c-b00b038a53f2 pre{padding: 0;}#sk-3a381404-69d1-4771-958c-b00b038a53f2 div.sk-toggleable {background-color: white;}#sk-3a381404-69d1-4771-958c-b00b038a53f2 label.sk-toggleable__label {cursor: pointer;display: block;width: 100%;margin-bottom: 0;padding: 0.3em;box-sizing: border-box;text-align: center;}#sk-3a381404-69d1-4771-958c-b00b038a53f2 label.sk-toggleable__label-arrow:before {content: \"▸\";float: left;margin-right: 0.25em;color: #696969;}#sk-3a381404-69d1-4771-958c-b00b038a53f2 label.sk-toggleable__label-arrow:hover:before {color: black;}#sk-3a381404-69d1-4771-958c-b00b038a53f2 div.sk-estimator:hover label.sk-toggleable__label-arrow:before {color: black;}#sk-3a381404-69d1-4771-958c-b00b038a53f2 div.sk-toggleable__content {max-height: 0;max-width: 0;overflow: hidden;text-align: left;background-color: #f0f8ff;}#sk-3a381404-69d1-4771-958c-b00b038a53f2 div.sk-toggleable__content pre {margin: 0.2em;color: black;border-radius: 0.25em;background-color: #f0f8ff;}#sk-3a381404-69d1-4771-958c-b00b038a53f2 input.sk-toggleable__control:checked~div.sk-toggleable__content {max-height: 200px;max-width: 100%;overflow: auto;}#sk-3a381404-69d1-4771-958c-b00b038a53f2 input.sk-toggleable__control:checked~label.sk-toggleable__label-arrow:before {content: \"▾\";}#sk-3a381404-69d1-4771-958c-b00b038a53f2 div.sk-estimator input.sk-toggleable__control:checked~label.sk-toggleable__label {background-color: #d4ebff;}#sk-3a381404-69d1-4771-958c-b00b038a53f2 div.sk-label input.sk-toggleable__control:checked~label.sk-toggleable__label {background-color: #d4ebff;}#sk-3a381404-69d1-4771-958c-b00b038a53f2 input.sk-hidden--visually {border: 0;clip: rect(1px 1px 1px 1px);clip: rect(1px, 1px, 1px, 1px);height: 1px;margin: -1px;overflow: hidden;padding: 0;position: absolute;width: 1px;}#sk-3a381404-69d1-4771-958c-b00b038a53f2 div.sk-estimator {font-family: monospace;background-color: #f0f8ff;border: 1px dotted black;border-radius: 0.25em;box-sizing: border-box;margin-bottom: 0.5em;}#sk-3a381404-69d1-4771-958c-b00b038a53f2 div.sk-estimator:hover {background-color: #d4ebff;}#sk-3a381404-69d1-4771-958c-b00b038a53f2 div.sk-parallel-item::after {content: \"\";width: 100%;border-bottom: 1px solid gray;flex-grow: 1;}#sk-3a381404-69d1-4771-958c-b00b038a53f2 div.sk-label:hover label.sk-toggleable__label {background-color: #d4ebff;}#sk-3a381404-69d1-4771-958c-b00b038a53f2 div.sk-serial::before {content: \"\";position: absolute;border-left: 1px solid gray;box-sizing: border-box;top: 2em;bottom: 0;left: 50%;}#sk-3a381404-69d1-4771-958c-b00b038a53f2 div.sk-serial {display: flex;flex-direction: column;align-items: center;background-color: white;padding-right: 0.2em;padding-left: 0.2em;}#sk-3a381404-69d1-4771-958c-b00b038a53f2 div.sk-item {z-index: 1;}#sk-3a381404-69d1-4771-958c-b00b038a53f2 div.sk-parallel {display: flex;align-items: stretch;justify-content: center;background-color: white;}#sk-3a381404-69d1-4771-958c-b00b038a53f2 div.sk-parallel::before {content: \"\";position: absolute;border-left: 1px solid gray;box-sizing: border-box;top: 2em;bottom: 0;left: 50%;}#sk-3a381404-69d1-4771-958c-b00b038a53f2 div.sk-parallel-item {display: flex;flex-direction: column;position: relative;background-color: white;}#sk-3a381404-69d1-4771-958c-b00b038a53f2 div.sk-parallel-item:first-child::after {align-self: flex-end;width: 50%;}#sk-3a381404-69d1-4771-958c-b00b038a53f2 div.sk-parallel-item:last-child::after {align-self: flex-start;width: 50%;}#sk-3a381404-69d1-4771-958c-b00b038a53f2 div.sk-parallel-item:only-child::after {width: 0;}#sk-3a381404-69d1-4771-958c-b00b038a53f2 div.sk-dashed-wrapped {border: 1px dashed gray;margin: 0 0.4em 0.5em 0.4em;box-sizing: border-box;padding-bottom: 0.4em;background-color: white;position: relative;}#sk-3a381404-69d1-4771-958c-b00b038a53f2 div.sk-label label {font-family: monospace;font-weight: bold;background-color: white;display: inline-block;line-height: 1.2em;}#sk-3a381404-69d1-4771-958c-b00b038a53f2 div.sk-label-container {position: relative;z-index: 2;text-align: center;}#sk-3a381404-69d1-4771-958c-b00b038a53f2 div.sk-container {/* jupyter's `normalize.less` sets `[hidden] { display: none; }` but bootstrap.min.css set `[hidden] { display: none !important; }` so we also need the `!important` here to be able to override the default hidden behavior on the sphinx rendered scikit-learn.org. See: https://github.com/scikit-learn/scikit-learn/issues/21755 */display: inline-block !important;position: relative;}#sk-3a381404-69d1-4771-958c-b00b038a53f2 div.sk-text-repr-fallback {display: none;}</style><div id=\"sk-3a381404-69d1-4771-958c-b00b038a53f2\" class=\"sk-top-container\"><div class=\"sk-text-repr-fallback\"><pre>Pipeline(steps=[(&#x27;standardscaler&#x27;, StandardScaler()),\n",
              "                (&#x27;kneighborsclassifier&#x27;, KNeighborsClassifier())])</pre><b>Please rerun this cell to show the HTML repr or trust the notebook.</b></div><div class=\"sk-container\" hidden><div class=\"sk-item sk-dashed-wrapped\"><div class=\"sk-label-container\"><div class=\"sk-label sk-toggleable\"><input class=\"sk-toggleable__control sk-hidden--visually\" id=\"ad9fe74c-696c-439f-9da9-ad19ca79c516\" type=\"checkbox\" ><label for=\"ad9fe74c-696c-439f-9da9-ad19ca79c516\" class=\"sk-toggleable__label sk-toggleable__label-arrow\">Pipeline</label><div class=\"sk-toggleable__content\"><pre>Pipeline(steps=[(&#x27;standardscaler&#x27;, StandardScaler()),\n",
              "                (&#x27;kneighborsclassifier&#x27;, KNeighborsClassifier())])</pre></div></div></div><div class=\"sk-serial\"><div class=\"sk-item\"><div class=\"sk-estimator sk-toggleable\"><input class=\"sk-toggleable__control sk-hidden--visually\" id=\"6a491345-1593-449b-b2a2-d42d77b2e4df\" type=\"checkbox\" ><label for=\"6a491345-1593-449b-b2a2-d42d77b2e4df\" class=\"sk-toggleable__label sk-toggleable__label-arrow\">StandardScaler</label><div class=\"sk-toggleable__content\"><pre>StandardScaler()</pre></div></div></div><div class=\"sk-item\"><div class=\"sk-estimator sk-toggleable\"><input class=\"sk-toggleable__control sk-hidden--visually\" id=\"1cfed24a-f32c-48f0-938e-4954c2dc1f91\" type=\"checkbox\" ><label for=\"1cfed24a-f32c-48f0-938e-4954c2dc1f91\" class=\"sk-toggleable__label sk-toggleable__label-arrow\">KNeighborsClassifier</label><div class=\"sk-toggleable__content\"><pre>KNeighborsClassifier()</pre></div></div></div></div></div></div></div>"
            ]
          },
          "metadata": {},
          "execution_count": 41
        }
      ]
    },
    {
      "cell_type": "code",
      "source": [
        "# Obtain Predictions\n",
        "\n",
        "test_preds_knn = knn_pipeline.predict(X_test_knn)\n",
        "\n",
        "# Calculate Accuracy Score\n",
        "accuracy_knn = accuracy_score(y_test_knn, test_preds_knn)\n",
        "accuracy_knn = round(accuracy_knn, 4)\n",
        "\n",
        "print('The KNN Accuracy Score is', accuracy_knn)"
      ],
      "metadata": {
        "colab": {
          "base_uri": "https://localhost:8080/"
        },
        "id": "T4vhVAKWgsqJ",
        "outputId": "2f8149a3-152a-4f2f-ae8a-76b66706f9f0"
      },
      "execution_count": null,
      "outputs": [
        {
          "output_type": "stream",
          "name": "stdout",
          "text": [
            "The KNN Accuracy Score is 0.9155\n"
          ]
        }
      ]
    },
    {
      "cell_type": "code",
      "source": [
        "# Calculate Recall Score\n",
        "\n",
        "recall_knn = metrics.recall_score(y_test_knn, test_preds_knn)\n",
        "recall_knn = round(recall_knn, 4)\n",
        "\n",
        "print('The KNN Recall Score is', recall_knn)"
      ],
      "metadata": {
        "colab": {
          "base_uri": "https://localhost:8080/"
        },
        "id": "hkJHYhVPgzew",
        "outputId": "57d63263-fc20-4c76-be24-b05d5b4fa184"
      },
      "execution_count": null,
      "outputs": [
        {
          "output_type": "stream",
          "name": "stdout",
          "text": [
            "The KNN Recall Score is 0.8571\n"
          ]
        }
      ]
    },
    {
      "cell_type": "code",
      "source": [
        "# calculate Classification Accuracy - Default\n",
        "score_knn = knn_pipeline.score(X_test_knn, y_test_knn);\n",
        "score_knn = round(score_knn, 4);\n",
        "\n",
        "print('The Default KNN Classification Accuracy is', score_knn);"
      ],
      "metadata": {
        "colab": {
          "base_uri": "https://localhost:8080/"
        },
        "id": "mM0TQGysg2Zt",
        "outputId": "012b46b4-2f5f-46fc-e671-816bd2d3f943"
      },
      "execution_count": null,
      "outputs": [
        {
          "output_type": "stream",
          "name": "stdout",
          "text": [
            "The Default KNN Classification Accuracy is 0.9155\n"
          ]
        }
      ]
    },
    {
      "cell_type": "markdown",
      "source": [
        "###### Confusion Matrix for KNN"
      ],
      "metadata": {
        "id": "ow_LtWcLfwjR"
      }
    },
    {
      "cell_type": "code",
      "source": [
        "# Confusion Matrix for KNN\n",
        "\n",
        "plot_confusion_matrix(knn_pipeline, X_test_knn, y_test_knn, cmap = 'Blues');"
      ],
      "metadata": {
        "colab": {
          "base_uri": "https://localhost:8080/",
          "height": 334
        },
        "id": "tT9eqK5TfzR-",
        "outputId": "a0dac3bf-0277-454c-b4bc-c51361031a7d"
      },
      "execution_count": null,
      "outputs": [
        {
          "output_type": "stream",
          "name": "stderr",
          "text": [
            "/usr/local/lib/python3.7/dist-packages/sklearn/utils/deprecation.py:87: FutureWarning: Function plot_confusion_matrix is deprecated; Function `plot_confusion_matrix` is deprecated in 1.0 and will be removed in 1.2. Use one of the class methods: ConfusionMatrixDisplay.from_predictions or ConfusionMatrixDisplay.from_estimator.\n",
            "  warnings.warn(msg, category=FutureWarning)\n"
          ]
        },
        {
          "output_type": "display_data",
          "data": {
            "text/plain": [
              "<Figure size 432x288 with 2 Axes>"
            ],
            "image/png": "[encoded data removed]"
          },
          "metadata": {
            "needs_background": "light"
          }
        }
      ]
    },
    {
      "cell_type": "markdown",
      "source": [
        "###### Metrics"
      ],
      "metadata": {
        "id": "YpBPHtBAE50Q"
      }
    },
    {
      "cell_type": "code",
      "source": [
        "# KNN \n",
        "\n",
        "cm_knn = metrics.confusion_matrix(y_test_knn.values, test_preds_knn)\n",
        "tn_knn, fp_knn, fn_knn, tp_knn = cm_knn.ravel()\n",
        "\n",
        "print('Tn is ',tn_knn, '= True Negative for KNN Model')\n",
        "print('\\n')\n",
        "print('Fp is ',fp_knn, '= False Positive for KNN Model')\n",
        "print('\\n')\n",
        "print('Fn is ',fn_knn, '= False Negative for KNN Model')\n",
        "print('\\n')\n",
        "print('Tp is ',tp_knn, '= True Positive for KNN Model')"
      ],
      "metadata": {
        "colab": {
          "base_uri": "https://localhost:8080/"
        },
        "id": "COYZST7SEovY",
        "outputId": "c96c1787-e863-476c-d5a7-3457b3e74c3f"
      },
      "execution_count": null,
      "outputs": [
        {
          "output_type": "stream",
          "name": "stdout",
          "text": [
            "Tn is  29 = True Negative for KNN Model\n",
            "\n",
            "\n",
            "Fp is  0 = False Positive for KNN Model\n",
            "\n",
            "\n",
            "Fn is  6 = False Negative for KNN Model\n",
            "\n",
            "\n",
            "Tp is  36 = True Positive for KNN Model\n"
          ]
        }
      ]
    },
    {
      "cell_type": "markdown",
      "source": [
        "###### Sensitivity vs Specificity"
      ],
      "metadata": {
        "id": "4HHKC0f0GYCF"
      }
    },
    {
      "cell_type": "code",
      "source": [
        "# Sensitivity\n",
        "sensitivity_knn = tp_knn / (tp_knn + fn_knn)\n",
        "sensitivity_knn = round(sensitivity_knn, 4);\n",
        "\n",
        "#Specificity\n",
        "specificity_knn = tn_knn / (tn_knn + fp_knn)\n",
        "specificity_knn = round(specificity_knn, 4);\n",
        "\n",
        "print('Sensitivity is ',sensitivity_knn, 'for KNN Model')\n",
        "print('\\n')\n",
        "print('Specificity is ',specificity_knn, 'for KNN Model')"
      ],
      "metadata": {
        "colab": {
          "base_uri": "https://localhost:8080/"
        },
        "id": "ZFGZrMYeGBxZ",
        "outputId": "25f07015-a488-44aa-ad00-ff6d2eace3ee"
      },
      "execution_count": null,
      "outputs": [
        {
          "output_type": "stream",
          "name": "stdout",
          "text": [
            "Sensitivity is  0.8571 for KNN Model\n",
            "\n",
            "\n",
            "Specificity is  1.0 for KNN Model\n"
          ]
        }
      ]
    },
    {
      "cell_type": "markdown",
      "source": [
        "##### Classification via Random Forest - Default Hyperparameter"
      ],
      "metadata": {
        "id": "1I-xF3FcQgDK"
      }
    },
    {
      "cell_type": "code",
      "source": [
        "# Split Data Set\n",
        "X_rf = df_new.drop(columns = 'Drug')\n",
        "y_rf = df_new['Drug']\n",
        "\n",
        "# Train test split\n",
        "X_train_rf, X_test_rf, y_train_rf, y_test_rf = train_test_split(X_rf, y_rf, random_state = 42)"
      ],
      "metadata": {
        "id": "DXpFYCCQQhu6"
      },
      "execution_count": null,
      "outputs": []
    },
    {
      "cell_type": "markdown",
      "source": [
        "###### Random Forest Classification Proper"
      ],
      "metadata": {
        "id": "cfhPCj45Y1bK"
      }
    },
    {
      "cell_type": "code",
      "source": [
        "#Create a pipeline with a StandardScaler and KNN Classifier\n",
        "rf = RandomForestClassifier(random_state = 42)\n",
        "rf_pipeline = make_pipeline(scaler, rf)\n",
        "\n",
        "# Fit Data on Training Set\n",
        "preprocessor.fit(X_train_rf)\n",
        "\n",
        "# transform train and test (X)\n",
        "X_train_rf = preprocessor.transform(X_train_rf)\n",
        "X_test_rf = preprocessor.transform(X_test_rf)\n",
        "\n",
        "# Check for Missind Data\n",
        "print(np.isnan(X_train_rf).sum().sum(), 'missing values in training data')\n",
        "print(np.isnan(X_test_rf).sum().sum(), 'missing values in testing data')\n"
      ],
      "metadata": {
        "colab": {
          "base_uri": "https://localhost:8080/"
        },
        "id": "Frry8lceYosA",
        "outputId": "9842ae05-c4ab-499f-cc37-4d8419cc8cc4"
      },
      "execution_count": null,
      "outputs": [
        {
          "output_type": "stream",
          "name": "stdout",
          "text": [
            "0 missing values in training data\n",
            "0 missing values in testing data\n"
          ]
        }
      ]
    },
    {
      "cell_type": "code",
      "source": [
        "# Fit to Random Forest Pipelines\n",
        "rf_pipeline.fit(X_train_rf, y_train_rf)"
      ],
      "metadata": {
        "colab": {
          "base_uri": "https://localhost:8080/",
          "height": 126
        },
        "id": "8rFsCpJooUdT",
        "outputId": "6850df33-65a5-46c3-b236-25b4cbf65f29"
      },
      "execution_count": null,
      "outputs": [
        {
          "output_type": "execute_result",
          "data": {
            "text/plain": [
              "Pipeline(steps=[('standardscaler', StandardScaler()),\n",
              "                ('randomforestclassifier',\n",
              "                 RandomForestClassifier(random_state=42))])"
            ],
            "text/html": [
              "<style>#sk-3ea1eaa5-9beb-4ac8-b6a4-ab617c809c87 {color: black;background-color: white;}#sk-3ea1eaa5-9beb-4ac8-b6a4-ab617c809c87 pre{padding: 0;}#sk-3ea1eaa5-9beb-4ac8-b6a4-ab617c809c87 div.sk-toggleable {background-color: white;}#sk-3ea1eaa5-9beb-4ac8-b6a4-ab617c809c87 label.sk-toggleable__label {cursor: pointer;display: block;width: 100%;margin-bottom: 0;padding: 0.3em;box-sizing: border-box;text-align: center;}#sk-3ea1eaa5-9beb-4ac8-b6a4-ab617c809c87 label.sk-toggleable__label-arrow:before {content: \"▸\";float: left;margin-right: 0.25em;color: #696969;}#sk-3ea1eaa5-9beb-4ac8-b6a4-ab617c809c87 label.sk-toggleable__label-arrow:hover:before {color: black;}#sk-3ea1eaa5-9beb-4ac8-b6a4-ab617c809c87 div.sk-estimator:hover label.sk-toggleable__label-arrow:before {color: black;}#sk-3ea1eaa5-9beb-4ac8-b6a4-ab617c809c87 div.sk-toggleable__content {max-height: 0;max-width: 0;overflow: hidden;text-align: left;background-color: #f0f8ff;}#sk-3ea1eaa5-9beb-4ac8-b6a4-ab617c809c87 div.sk-toggleable__content pre {margin: 0.2em;color: black;border-radius: 0.25em;background-color: #f0f8ff;}#sk-3ea1eaa5-9beb-4ac8-b6a4-ab617c809c87 input.sk-toggleable__control:checked~div.sk-toggleable__content {max-height: 200px;max-width: 100%;overflow: auto;}#sk-3ea1eaa5-9beb-4ac8-b6a4-ab617c809c87 input.sk-toggleable__control:checked~label.sk-toggleable__label-arrow:before {content: \"▾\";}#sk-3ea1eaa5-9beb-4ac8-b6a4-ab617c809c87 div.sk-estimator input.sk-toggleable__control:checked~label.sk-toggleable__label {background-color: #d4ebff;}#sk-3ea1eaa5-9beb-4ac8-b6a4-ab617c809c87 div.sk-label input.sk-toggleable__control:checked~label.sk-toggleable__label {background-color: #d4ebff;}#sk-3ea1eaa5-9beb-4ac8-b6a4-ab617c809c87 input.sk-hidden--visually {border: 0;clip: rect(1px 1px 1px 1px);clip: rect(1px, 1px, 1px, 1px);height: 1px;margin: -1px;overflow: hidden;padding: 0;position: absolute;width: 1px;}#sk-3ea1eaa5-9beb-4ac8-b6a4-ab617c809c87 div.sk-estimator {font-family: monospace;background-color: #f0f8ff;border: 1px dotted black;border-radius: 0.25em;box-sizing: border-box;margin-bottom: 0.5em;}#sk-3ea1eaa5-9beb-4ac8-b6a4-ab617c809c87 div.sk-estimator:hover {background-color: #d4ebff;}#sk-3ea1eaa5-9beb-4ac8-b6a4-ab617c809c87 div.sk-parallel-item::after {content: \"\";width: 100%;border-bottom: 1px solid gray;flex-grow: 1;}#sk-3ea1eaa5-9beb-4ac8-b6a4-ab617c809c87 div.sk-label:hover label.sk-toggleable__label {background-color: #d4ebff;}#sk-3ea1eaa5-9beb-4ac8-b6a4-ab617c809c87 div.sk-serial::before {content: \"\";position: absolute;border-left: 1px solid gray;box-sizing: border-box;top: 2em;bottom: 0;left: 50%;}#sk-3ea1eaa5-9beb-4ac8-b6a4-ab617c809c87 div.sk-serial {display: flex;flex-direction: column;align-items: center;background-color: white;padding-right: 0.2em;padding-left: 0.2em;}#sk-3ea1eaa5-9beb-4ac8-b6a4-ab617c809c87 div.sk-item {z-index: 1;}#sk-3ea1eaa5-9beb-4ac8-b6a4-ab617c809c87 div.sk-parallel {display: flex;align-items: stretch;justify-content: center;background-color: white;}#sk-3ea1eaa5-9beb-4ac8-b6a4-ab617c809c87 div.sk-parallel::before {content: \"\";position: absolute;border-left: 1px solid gray;box-sizing: border-box;top: 2em;bottom: 0;left: 50%;}#sk-3ea1eaa5-9beb-4ac8-b6a4-ab617c809c87 div.sk-parallel-item {display: flex;flex-direction: column;position: relative;background-color: white;}#sk-3ea1eaa5-9beb-4ac8-b6a4-ab617c809c87 div.sk-parallel-item:first-child::after {align-self: flex-end;width: 50%;}#sk-3ea1eaa5-9beb-4ac8-b6a4-ab617c809c87 div.sk-parallel-item:last-child::after {align-self: flex-start;width: 50%;}#sk-3ea1eaa5-9beb-4ac8-b6a4-ab617c809c87 div.sk-parallel-item:only-child::after {width: 0;}#sk-3ea1eaa5-9beb-4ac8-b6a4-ab617c809c87 div.sk-dashed-wrapped {border: 1px dashed gray;margin: 0 0.4em 0.5em 0.4em;box-sizing: border-box;padding-bottom: 0.4em;background-color: white;position: relative;}#sk-3ea1eaa5-9beb-4ac8-b6a4-ab617c809c87 div.sk-label label {font-family: monospace;font-weight: bold;background-color: white;display: inline-block;line-height: 1.2em;}#sk-3ea1eaa5-9beb-4ac8-b6a4-ab617c809c87 div.sk-label-container {position: relative;z-index: 2;text-align: center;}#sk-3ea1eaa5-9beb-4ac8-b6a4-ab617c809c87 div.sk-container {/* jupyter's `normalize.less` sets `[hidden] { display: none; }` but bootstrap.min.css set `[hidden] { display: none !important; }` so we also need the `!important` here to be able to override the default hidden behavior on the sphinx rendered scikit-learn.org. See: https://github.com/scikit-learn/scikit-learn/issues/21755 */display: inline-block !important;position: relative;}#sk-3ea1eaa5-9beb-4ac8-b6a4-ab617c809c87 div.sk-text-repr-fallback {display: none;}</style><div id=\"sk-3ea1eaa5-9beb-4ac8-b6a4-ab617c809c87\" class=\"sk-top-container\"><div class=\"sk-text-repr-fallback\"><pre>Pipeline(steps=[(&#x27;standardscaler&#x27;, StandardScaler()),\n",
              "                (&#x27;randomforestclassifier&#x27;,\n",
              "                 RandomForestClassifier(random_state=42))])</pre><b>Please rerun this cell to show the HTML repr or trust the notebook.</b></div><div class=\"sk-container\" hidden><div class=\"sk-item sk-dashed-wrapped\"><div class=\"sk-label-container\"><div class=\"sk-label sk-toggleable\"><input class=\"sk-toggleable__control sk-hidden--visually\" id=\"5ec1c0dd-8256-4dd7-a21c-422c253bbc21\" type=\"checkbox\" ><label for=\"5ec1c0dd-8256-4dd7-a21c-422c253bbc21\" class=\"sk-toggleable__label sk-toggleable__label-arrow\">Pipeline</label><div class=\"sk-toggleable__content\"><pre>Pipeline(steps=[(&#x27;standardscaler&#x27;, StandardScaler()),\n",
              "                (&#x27;randomforestclassifier&#x27;,\n",
              "                 RandomForestClassifier(random_state=42))])</pre></div></div></div><div class=\"sk-serial\"><div class=\"sk-item\"><div class=\"sk-estimator sk-toggleable\"><input class=\"sk-toggleable__control sk-hidden--visually\" id=\"95e8aba4-5f44-4123-bf81-dbac5c63dd14\" type=\"checkbox\" ><label for=\"95e8aba4-5f44-4123-bf81-dbac5c63dd14\" class=\"sk-toggleable__label sk-toggleable__label-arrow\">StandardScaler</label><div class=\"sk-toggleable__content\"><pre>StandardScaler()</pre></div></div></div><div class=\"sk-item\"><div class=\"sk-estimator sk-toggleable\"><input class=\"sk-toggleable__control sk-hidden--visually\" id=\"a9969a60-d89e-41fd-b4e2-4c9889a58047\" type=\"checkbox\" ><label for=\"a9969a60-d89e-41fd-b4e2-4c9889a58047\" class=\"sk-toggleable__label sk-toggleable__label-arrow\">RandomForestClassifier</label><div class=\"sk-toggleable__content\"><pre>RandomForestClassifier(random_state=42)</pre></div></div></div></div></div></div></div>"
            ]
          },
          "metadata": {},
          "execution_count": 50
        }
      ]
    },
    {
      "cell_type": "code",
      "source": [
        "# Obtain Predictions\n",
        "\n",
        "test_preds_rf = rf_pipeline.predict(X_test_rf)\n",
        "\n",
        "# Calculate Accuracy Score\n",
        "accuracy_rf = accuracy_score(y_test_rf, test_preds_rf)\n",
        "accuracy_rf = round(accuracy_rf, 4)\n",
        "\n",
        "print('The Random Foreset Accuracy Score is', accuracy_rf)"
      ],
      "metadata": {
        "colab": {
          "base_uri": "https://localhost:8080/"
        },
        "id": "wauZdvMeZt73",
        "outputId": "5b54a428-86fd-44b7-90ab-4eefaefdd36e"
      },
      "execution_count": null,
      "outputs": [
        {
          "output_type": "stream",
          "name": "stdout",
          "text": [
            "The Random Foreset Accuracy Score is 0.9577\n"
          ]
        }
      ]
    },
    {
      "cell_type": "code",
      "source": [
        "# Calculate Recall Score\n",
        "\n",
        "recall_rf = metrics.recall_score(y_test_rf, test_preds_rf)\n",
        "recall_rf = round(recall_rf, 4)\n",
        "\n",
        "print('The Random Forest Recall Score is', recall_rf)"
      ],
      "metadata": {
        "colab": {
          "base_uri": "https://localhost:8080/"
        },
        "id": "ERIjnBG9eaNE",
        "outputId": "b1d067c4-67d6-40eb-9cca-03f63973f953"
      },
      "execution_count": null,
      "outputs": [
        {
          "output_type": "stream",
          "name": "stdout",
          "text": [
            "The Random Forest Recall Score is 0.9286\n"
          ]
        }
      ]
    },
    {
      "cell_type": "markdown",
      "source": [
        "###### Confusion Matrix for Random Forest"
      ],
      "metadata": {
        "id": "z6XUor1gH8s3"
      }
    },
    {
      "cell_type": "code",
      "source": [
        "# Confusion Matrix for Random Forest\n",
        "\n",
        "plot_confusion_matrix(rf_pipeline, X_test_rf, y_test_rf, cmap = 'Blues');"
      ],
      "metadata": {
        "colab": {
          "base_uri": "https://localhost:8080/",
          "height": 334
        },
        "id": "gM6DSZklH_iW",
        "outputId": "f27cbd8f-c255-4e1e-8f60-c17e6517fae3"
      },
      "execution_count": null,
      "outputs": [
        {
          "output_type": "stream",
          "name": "stderr",
          "text": [
            "/usr/local/lib/python3.7/dist-packages/sklearn/utils/deprecation.py:87: FutureWarning: Function plot_confusion_matrix is deprecated; Function `plot_confusion_matrix` is deprecated in 1.0 and will be removed in 1.2. Use one of the class methods: ConfusionMatrixDisplay.from_predictions or ConfusionMatrixDisplay.from_estimator.\n",
            "  warnings.warn(msg, category=FutureWarning)\n"
          ]
        },
        {
          "output_type": "display_data",
          "data": {
            "text/plain": [
              "<Figure size 432x288 with 2 Axes>"
            ],
            "image/png": "[encoded data removed]"
          },
          "metadata": {
            "needs_background": "light"
          }
        }
      ]
    },
    {
      "cell_type": "markdown",
      "source": [
        "###### Metrics"
      ],
      "metadata": {
        "id": "qLzyX4WRIP3H"
      }
    },
    {
      "cell_type": "code",
      "source": [
        "# Random Forest Metrics\n",
        "\n",
        "cm_rf = metrics.confusion_matrix(y_test_rf.values, test_preds_rf)\n",
        "tn_rf, fp_rf, fn_rf, tp_rf = cm_rf.ravel()\n",
        "\n",
        "print('Tn is ',tn_rf, '= True Negative for Random Forest Model')\n",
        "print('\\n')\n",
        "print('Fp is ',fp_rf, '= False Positive for Random Forest Model')\n",
        "print('\\n')\n",
        "print('Fn is ',fn_rf, '= False Negative for Random Forest Model')\n",
        "print('\\n')\n",
        "print('Tp is ',tp_rf, '= True Positive for Random Forest Model')"
      ],
      "metadata": {
        "colab": {
          "base_uri": "https://localhost:8080/"
        },
        "id": "ti7tTj7nIIWp",
        "outputId": "a61169c6-fbf7-49ee-dd5a-8900abf07cfb"
      },
      "execution_count": null,
      "outputs": [
        {
          "output_type": "stream",
          "name": "stdout",
          "text": [
            "Tn is  29 = True Negative for Random Forest Model\n",
            "\n",
            "\n",
            "Fp is  0 = False Positive for Random Forest Model\n",
            "\n",
            "\n",
            "Fn is  3 = False Negative for Random Forest Model\n",
            "\n",
            "\n",
            "Tp is  39 = True Positive for Random Forest Model\n"
          ]
        }
      ]
    },
    {
      "cell_type": "markdown",
      "source": [
        "###### Sensitivity vs Specificity"
      ],
      "metadata": {
        "id": "KPm01Cs6IkPX"
      }
    },
    {
      "cell_type": "code",
      "source": [
        "# Sensitivity\n",
        "sensitivity_rf = tp_rf / (tp_rf + fn_rf)\n",
        "sensitivity_rf = round(sensitivity_rf, 4);\n",
        "\n",
        "#Specificity\n",
        "specificity_rf = tn_rf / (tn_rf + fp_rf)\n",
        "specificity_rf = round(specificity_rf, 4);\n",
        "\n",
        "print('Sensitivity is ',sensitivity_rf, 'for Random Forest Model')\n",
        "print('\\n')\n",
        "print('Specificity is ',specificity_rf, 'for Random Forest Model')"
      ],
      "metadata": {
        "colab": {
          "base_uri": "https://localhost:8080/"
        },
        "id": "vSclSYxgIhJV",
        "outputId": "562a5935-e8cb-4ab5-ca31-f50201f6ede7"
      },
      "execution_count": null,
      "outputs": [
        {
          "output_type": "stream",
          "name": "stdout",
          "text": [
            "Sensitivity is  0.9286 for Random Forest Model\n",
            "\n",
            "\n",
            "Specificity is  1.0 for Random Forest Model\n"
          ]
        }
      ]
    },
    {
      "cell_type": "markdown",
      "source": [
        "##### Optimal hyperparameters for each model"
      ],
      "metadata": {
        "id": "nmjvT6qSSdFL"
      }
    },
    {
      "cell_type": "markdown",
      "source": [
        "###### Optimal Nearest Neighbors for KNN"
      ],
      "metadata": {
        "id": "yezK3DV9Jbsx"
      }
    },
    {
      "cell_type": "code",
      "source": [
        "# Obtaining Nearest Neighbors for KNN\n",
        "\n",
        "# List of values to try for max_depth:\n",
        "# We will try every value between 2 and 36\n",
        "n_max = list(range(1, 101, 1)) \n",
        "# List to store the score for each value of max_depth:\n",
        "r1 = []\n",
        "for n in n_max:\n",
        "    knn_x = KNeighborsClassifier(n_neighbors = n)\n",
        "    knn_x.fit(X_train_knn, y_train_knn)\n",
        "    score_knn = knn_x.score(X_test_knn, y_test_knn)\n",
        "    r1.append(score_knn)\n",
        "    \n",
        "print(r1)"
      ],
      "metadata": {
        "colab": {
          "base_uri": "https://localhost:8080/"
        },
        "id": "zLd5rBypJfZu",
        "outputId": "ba9b86b7-e3bc-4387-9104-df3901f71c2a"
      },
      "execution_count": null,
      "outputs": [
        {
          "output_type": "stream",
          "name": "stdout",
          "text": [
            "[0.9436619718309859, 0.9295774647887324, 0.9295774647887324, 0.9154929577464789, 0.9154929577464789, 0.9014084507042254, 0.8732394366197183, 0.9014084507042254, 0.9014084507042254, 0.9014084507042254, 0.9014084507042254, 0.8873239436619719, 0.8873239436619719, 0.8732394366197183, 0.8873239436619719, 0.8591549295774648, 0.8873239436619719, 0.8732394366197183, 0.8732394366197183, 0.8450704225352113, 0.8591549295774648, 0.8450704225352113, 0.8309859154929577, 0.8450704225352113, 0.8450704225352113, 0.8450704225352113, 0.8309859154929577, 0.8591549295774648, 0.8450704225352113, 0.8450704225352113, 0.8450704225352113, 0.8450704225352113, 0.8591549295774648, 0.8450704225352113, 0.8450704225352113, 0.8450704225352113, 0.8450704225352113, 0.8450704225352113, 0.8450704225352113, 0.8450704225352113, 0.8450704225352113, 0.8450704225352113, 0.8591549295774648, 0.8309859154929577, 0.8450704225352113, 0.8450704225352113, 0.8450704225352113, 0.8309859154929577, 0.8450704225352113, 0.8309859154929577, 0.8450704225352113, 0.8450704225352113, 0.8450704225352113, 0.8309859154929577, 0.8591549295774648, 0.8169014084507042, 0.8591549295774648, 0.8028169014084507, 0.8169014084507042, 0.8028169014084507, 0.8169014084507042, 0.7746478873239436, 0.7746478873239436, 0.7746478873239436, 0.7746478873239436, 0.7746478873239436, 0.7746478873239436, 0.7605633802816901, 0.7887323943661971, 0.7746478873239436, 0.7887323943661971, 0.7746478873239436, 0.7887323943661971, 0.7746478873239436, 0.7746478873239436, 0.7746478873239436, 0.7746478873239436, 0.7746478873239436, 0.7746478873239436, 0.7746478873239436, 0.7746478873239436, 0.7746478873239436, 0.7746478873239436, 0.7605633802816901, 0.7605633802816901, 0.7605633802816901, 0.7605633802816901, 0.7605633802816901, 0.7605633802816901, 0.7605633802816901, 0.7605633802816901, 0.7605633802816901, 0.7605633802816901, 0.7323943661971831, 0.7464788732394366, 0.7183098591549296, 0.7323943661971831, 0.7183098591549296, 0.7183098591549296, 0.7183098591549296]\n"
          ]
        }
      ]
    },
    {
      "cell_type": "code",
      "source": [
        "# Visualize which nearest-neighbors leads to the highest Accuracy Score\n",
        "\n",
        "plt.plot(n_max, r1)\n",
        "plt.xlabel('n_neighbors')\n",
        "plt.ylabel('Score');"
      ],
      "metadata": {
        "colab": {
          "base_uri": "https://localhost:8080/",
          "height": 280
        },
        "id": "3cEL_mK5KPgW",
        "outputId": "f5e132e2-732e-413c-a7c2-7c878147c084"
      },
      "execution_count": null,
      "outputs": [
        {
          "output_type": "display_data",
          "data": {
            "text/plain": [
              "<Figure size 432x288 with 1 Axes>"
            ],
            "image/png": "[encoded data removed]"
          },
          "metadata": {
            "needs_background": "light"
          }
        }
      ]
    },
    {
      "cell_type": "markdown",
      "source": [
        "###### Optimal Maximum Depth for Random Forest"
      ],
      "metadata": {
        "id": "yqmbCIxJM-A5"
      }
    },
    {
      "cell_type": "code",
      "source": [
        "# Obtaining Maximum Depth of Random Forest\n",
        "\n",
        "# List of values to try for max_depth:\n",
        "# We will try every value between 2 and 36\n",
        "d_max = list(range(1, 201, 1)) \n",
        "# List to store the score for each value of max_depth:\n",
        "r2 = []\n",
        "for d in d_max:\n",
        "    rf_x = RandomForestClassifier(max_depth = d, random_state = 42)\n",
        "    rf_x.fit(X_train_rf, y_train_rf)\n",
        "    score_rf = rf_x.score(X_test_rf, y_test_rf)\n",
        "    r2.append(score_rf)\n",
        "    \n",
        "print(r2)"
      ],
      "metadata": {
        "colab": {
          "base_uri": "https://localhost:8080/"
        },
        "id": "NsTtcV0NNMjF",
        "outputId": "31dbb82e-6bc6-4062-acdf-1f68498685ee"
      },
      "execution_count": null,
      "outputs": [
        {
          "output_type": "stream",
          "name": "stdout",
          "text": [
            "[0.9577464788732394, 0.9577464788732394, 0.9577464788732394, 0.9577464788732394, 0.9577464788732394, 0.9577464788732394, 0.9577464788732394, 0.9577464788732394, 0.9577464788732394, 0.9577464788732394, 0.9577464788732394, 0.9577464788732394, 0.9577464788732394, 0.9577464788732394, 0.9577464788732394, 0.9577464788732394, 0.9577464788732394, 0.9577464788732394, 0.9577464788732394, 0.9577464788732394, 0.9577464788732394, 0.9577464788732394, 0.9577464788732394, 0.9577464788732394, 0.9577464788732394, 0.9577464788732394, 0.9577464788732394, 0.9577464788732394, 0.9577464788732394, 0.9577464788732394, 0.9577464788732394, 0.9577464788732394, 0.9577464788732394, 0.9577464788732394, 0.9577464788732394, 0.9577464788732394, 0.9577464788732394, 0.9577464788732394, 0.9577464788732394, 0.9577464788732394, 0.9577464788732394, 0.9577464788732394, 0.9577464788732394, 0.9577464788732394, 0.9577464788732394, 0.9577464788732394, 0.9577464788732394, 0.9577464788732394, 0.9577464788732394, 0.9577464788732394, 0.9577464788732394, 0.9577464788732394, 0.9577464788732394, 0.9577464788732394, 0.9577464788732394, 0.9577464788732394, 0.9577464788732394, 0.9577464788732394, 0.9577464788732394, 0.9577464788732394, 0.9577464788732394, 0.9577464788732394, 0.9577464788732394, 0.9577464788732394, 0.9577464788732394, 0.9577464788732394, 0.9577464788732394, 0.9577464788732394, 0.9577464788732394, 0.9577464788732394, 0.9577464788732394, 0.9577464788732394, 0.9577464788732394, 0.9577464788732394, 0.9577464788732394, 0.9577464788732394, 0.9577464788732394, 0.9577464788732394, 0.9577464788732394, 0.9577464788732394, 0.9577464788732394, 0.9577464788732394, 0.9577464788732394, 0.9577464788732394, 0.9577464788732394, 0.9577464788732394, 0.9577464788732394, 0.9577464788732394, 0.9577464788732394, 0.9577464788732394, 0.9577464788732394, 0.9577464788732394, 0.9577464788732394, 0.9577464788732394, 0.9577464788732394, 0.9577464788732394, 0.9577464788732394, 0.9577464788732394, 0.9577464788732394, 0.9577464788732394, 0.9577464788732394, 0.9577464788732394, 0.9577464788732394, 0.9577464788732394, 0.9577464788732394, 0.9577464788732394, 0.9577464788732394, 0.9577464788732394, 0.9577464788732394, 0.9577464788732394, 0.9577464788732394, 0.9577464788732394, 0.9577464788732394, 0.9577464788732394, 0.9577464788732394, 0.9577464788732394, 0.9577464788732394, 0.9577464788732394, 0.9577464788732394, 0.9577464788732394, 0.9577464788732394, 0.9577464788732394, 0.9577464788732394, 0.9577464788732394, 0.9577464788732394, 0.9577464788732394, 0.9577464788732394, 0.9577464788732394, 0.9577464788732394, 0.9577464788732394, 0.9577464788732394, 0.9577464788732394, 0.9577464788732394, 0.9577464788732394, 0.9577464788732394, 0.9577464788732394, 0.9577464788732394, 0.9577464788732394, 0.9577464788732394, 0.9577464788732394, 0.9577464788732394, 0.9577464788732394, 0.9577464788732394, 0.9577464788732394, 0.9577464788732394, 0.9577464788732394, 0.9577464788732394, 0.9577464788732394, 0.9577464788732394, 0.9577464788732394, 0.9577464788732394, 0.9577464788732394, 0.9577464788732394, 0.9577464788732394, 0.9577464788732394, 0.9577464788732394, 0.9577464788732394, 0.9577464788732394, 0.9577464788732394, 0.9577464788732394, 0.9577464788732394, 0.9577464788732394, 0.9577464788732394, 0.9577464788732394, 0.9577464788732394, 0.9577464788732394, 0.9577464788732394, 0.9577464788732394, 0.9577464788732394, 0.9577464788732394, 0.9577464788732394, 0.9577464788732394, 0.9577464788732394, 0.9577464788732394, 0.9577464788732394, 0.9577464788732394, 0.9577464788732394, 0.9577464788732394, 0.9577464788732394, 0.9577464788732394, 0.9577464788732394, 0.9577464788732394, 0.9577464788732394, 0.9577464788732394, 0.9577464788732394, 0.9577464788732394, 0.9577464788732394, 0.9577464788732394, 0.9577464788732394, 0.9577464788732394, 0.9577464788732394, 0.9577464788732394, 0.9577464788732394, 0.9577464788732394, 0.9577464788732394, 0.9577464788732394, 0.9577464788732394, 0.9577464788732394, 0.9577464788732394, 0.9577464788732394]\n"
          ]
        }
      ]
    },
    {
      "cell_type": "code",
      "source": [
        "# Visualize which Max_depth leads to the highest Accuracy\n",
        "\n",
        "plt.plot(d_max, r2)\n",
        "plt.xlabel('max_depth')\n",
        "plt.ylabel('Score');"
      ],
      "metadata": {
        "colab": {
          "base_uri": "https://localhost:8080/",
          "height": 280
        },
        "id": "MpNDkpIhN7AR",
        "outputId": "1a0a0937-bab1-4237-9b5a-f6c5f4bea03a"
      },
      "execution_count": null,
      "outputs": [
        {
          "output_type": "display_data",
          "data": {
            "text/plain": [
              "<Figure size 432x288 with 1 Axes>"
            ],
            "image/png": "[encoded data removed]"
          },
          "metadata": {
            "needs_background": "light"
          }
        }
      ]
    },
    {
      "cell_type": "markdown",
      "source": [
        "##### Additional Model for KNN"
      ],
      "metadata": {
        "id": "-ffIjD52SIe9"
      }
    },
    {
      "cell_type": "markdown",
      "source": [
        "###### Pipelines and Metrics"
      ],
      "metadata": {
        "id": "oBCHsJblTdqz"
      }
    },
    {
      "cell_type": "code",
      "source": [
        "#Change Hyperparameter of n_neighbors to 10\n",
        "knn_1 = KNeighborsClassifier(n_neighbors = 10)\n",
        "knn_pipeline_1 = make_pipeline(scaler, knn_1)\n",
        "\n",
        "# Fit to KNN Pipelines\n",
        "knn_pipeline_1.fit(X_train_knn, y_train_knn)\n",
        "\n",
        "# Obtain Predictions\n",
        "test_preds_knn1 = knn_pipeline_1.predict(X_test_knn)\n",
        "\n",
        "# Calculate Accuracy Score\n",
        "accuracy_knn1 = accuracy_score(y_test_knn, test_preds_knn1)\n",
        "accuracy_knn1 = round(accuracy_knn1, 4)\n",
        "\n",
        "# Calculate Recall Score\n",
        "recall_knn1 = metrics.recall_score(y_test_knn, test_preds_knn1)\n",
        "recall_knn1 = round(recall_knn, 4)\n",
        "\n",
        "# calculate Classification Accuracy - Default\n",
        "score_knn1 = knn_pipeline_1.score(X_test_knn, y_test_knn);\n",
        "score_knn1 = round(score_knn1, 4);\n",
        "\n",
        "print('The KNN Accuracy Score is', accuracy_knn1)\n",
        "print('The KNN Recall Score is', recall_knn)\n",
        "print('The Default KNN Classification Accuracy is', score_knn1);"
      ],
      "metadata": {
        "colab": {
          "base_uri": "https://localhost:8080/"
        },
        "id": "bFvddyH6SRvW",
        "outputId": "8a6c26fd-f12d-4859-b980-cc61d44de1fa"
      },
      "execution_count": null,
      "outputs": [
        {
          "output_type": "stream",
          "name": "stdout",
          "text": [
            "The KNN Accuracy Score is 0.9014\n",
            "The KNN Recall Score is 0.8571\n",
            "The Default KNN Classification Accuracy is 0.9014\n"
          ]
        }
      ]
    },
    {
      "cell_type": "markdown",
      "source": [
        "###### Confusion Matrix"
      ],
      "metadata": {
        "id": "M4jS-e1xTckp"
      }
    },
    {
      "cell_type": "code",
      "source": [
        "# Confusion Matrix for KNN\n",
        "\n",
        "plot_confusion_matrix(knn_pipeline_1, X_test_knn, y_test_knn, cmap = 'Blues');"
      ],
      "metadata": {
        "colab": {
          "base_uri": "https://localhost:8080/",
          "height": 338
        },
        "id": "YdCQQcMvTjdc",
        "outputId": "d2c948ad-161a-4304-a84d-eb43bee4c2a9"
      },
      "execution_count": null,
      "outputs": [
        {
          "output_type": "stream",
          "name": "stderr",
          "text": [
            "/usr/local/lib/python3.7/dist-packages/sklearn/utils/deprecation.py:87: FutureWarning: Function plot_confusion_matrix is deprecated; Function `plot_confusion_matrix` is deprecated in 1.0 and will be removed in 1.2. Use one of the class methods: ConfusionMatrixDisplay.from_predictions or ConfusionMatrixDisplay.from_estimator.\n",
            "  warnings.warn(msg, category=FutureWarning)\n"
          ]
        },
        {
          "output_type": "display_data",
          "data": {
            "text/plain": [
              "<Figure size 432x288 with 2 Axes>"
            ],
            "image/png": "[encoded data removed]"
          },
          "metadata": {
            "needs_background": "light"
          }
        }
      ]
    },
    {
      "cell_type": "code",
      "source": [
        "# KNN at N-Nearest Neighbors = 10 \n",
        "\n",
        "cm_knn_1 = metrics.confusion_matrix(y_test_knn.values, test_preds_knn1)\n",
        "tn_knn1, fp_knn1, fn_knn1, tp_knn1 = cm_knn_1.ravel()\n",
        "\n",
        "print('Tn is ',tn_knn1, '= True Negative for KNN Model')\n",
        "print('\\n')\n",
        "print('Fp is ',fp_knn1, '= False Positive for KNN Model')\n",
        "print('\\n')\n",
        "print('Fn is ',fn_knn1, '= False Negative for KNN Model')\n",
        "print('\\n')\n",
        "print('Tp is ',tp_knn1, '= True Positive for KNN Model')"
      ],
      "metadata": {
        "colab": {
          "base_uri": "https://localhost:8080/"
        },
        "id": "QtfT-367Tz_A",
        "outputId": "e6cf4a50-72bf-4b58-c334-9ebec14721d6"
      },
      "execution_count": null,
      "outputs": [
        {
          "output_type": "stream",
          "name": "stdout",
          "text": [
            "Tn is  29 = True Negative for KNN Model\n",
            "\n",
            "\n",
            "Fp is  0 = False Positive for KNN Model\n",
            "\n",
            "\n",
            "Fn is  7 = False Negative for KNN Model\n",
            "\n",
            "\n",
            "Tp is  35 = True Positive for KNN Model\n"
          ]
        }
      ]
    },
    {
      "cell_type": "markdown",
      "source": [
        "###### Sensitivity vs Specificity"
      ],
      "metadata": {
        "id": "fCadu2wtTuCp"
      }
    },
    {
      "cell_type": "code",
      "source": [
        "# Sensitivity\n",
        "sensitivity_knn_1 = tp_knn1 / (tp_knn1 + fn_knn1)\n",
        "sensitivity_knn_1 = round(sensitivity_knn_1, 4);\n",
        "\n",
        "#Specificity\n",
        "specificity_knn_1 = tn_knn1 / (tn_knn1 + fp_knn1)\n",
        "specificity_knn_1 = round(specificity_knn_1, 4);\n",
        "\n",
        "print('Sensitivity is ',sensitivity_knn_1, 'for Tuned KNN Model')\n",
        "print('\\n')\n",
        "print('Specificity is ',specificity_knn_1, 'for Tuned KNN Model')"
      ],
      "metadata": {
        "colab": {
          "base_uri": "https://localhost:8080/"
        },
        "id": "PZcN4MRfTxSi",
        "outputId": "24ccd597-0f13-4ea5-f0ca-eb81560bf82a"
      },
      "execution_count": null,
      "outputs": [
        {
          "output_type": "stream",
          "name": "stdout",
          "text": [
            "Sensitivity is  0.8333 for Tuned KNN Model\n",
            "\n",
            "\n",
            "Specificity is  1.0 for Tuned KNN Model\n"
          ]
        }
      ]
    },
    {
      "cell_type": "markdown",
      "source": [
        "##### Additional Model for Random Forest"
      ],
      "metadata": {
        "id": "KUFXpo-HSPDz"
      }
    },
    {
      "cell_type": "markdown",
      "source": [
        "###### Pipelines and Metrics"
      ],
      "metadata": {
        "id": "dGfNxbU8VkxH"
      }
    },
    {
      "cell_type": "code",
      "source": [
        "#Create a pipeline with a StandardScaler and KNN Classifier\n",
        "rf_1 = RandomForestClassifier(max_depth = 10, random_state = 42)\n",
        "rf_pipeline_1 = make_pipeline(scaler, rf_1)\n",
        "\n",
        "# Fit to Random Forest Pipelines\n",
        "rf_pipeline_1.fit(X_train_rf, y_train_rf)"
      ],
      "metadata": {
        "colab": {
          "base_uri": "https://localhost:8080/",
          "height": 126
        },
        "id": "fD1sStuuUvNX",
        "outputId": "9d0cd29c-1fb3-4b0c-b212-42c0b928ae3b"
      },
      "execution_count": null,
      "outputs": [
        {
          "output_type": "execute_result",
          "data": {
            "text/plain": [
              "Pipeline(steps=[('standardscaler', StandardScaler()),\n",
              "                ('randomforestclassifier',\n",
              "                 RandomForestClassifier(max_depth=10, random_state=42))])"
            ],
            "text/html": [
              "<style>#sk-4da34bbb-7dfa-4ee4-990b-3e50364ea6ce {color: black;background-color: white;}#sk-4da34bbb-7dfa-4ee4-990b-3e50364ea6ce pre{padding: 0;}#sk-4da34bbb-7dfa-4ee4-990b-3e50364ea6ce div.sk-toggleable {background-color: white;}#sk-4da34bbb-7dfa-4ee4-990b-3e50364ea6ce label.sk-toggleable__label {cursor: pointer;display: block;width: 100%;margin-bottom: 0;padding: 0.3em;box-sizing: border-box;text-align: center;}#sk-4da34bbb-7dfa-4ee4-990b-3e50364ea6ce label.sk-toggleable__label-arrow:before {content: \"▸\";float: left;margin-right: 0.25em;color: #696969;}#sk-4da34bbb-7dfa-4ee4-990b-3e50364ea6ce label.sk-toggleable__label-arrow:hover:before {color: black;}#sk-4da34bbb-7dfa-4ee4-990b-3e50364ea6ce div.sk-estimator:hover label.sk-toggleable__label-arrow:before {color: black;}#sk-4da34bbb-7dfa-4ee4-990b-3e50364ea6ce div.sk-toggleable__content {max-height: 0;max-width: 0;overflow: hidden;text-align: left;background-color: #f0f8ff;}#sk-4da34bbb-7dfa-4ee4-990b-3e50364ea6ce div.sk-toggleable__content pre {margin: 0.2em;color: black;border-radius: 0.25em;background-color: #f0f8ff;}#sk-4da34bbb-7dfa-4ee4-990b-3e50364ea6ce input.sk-toggleable__control:checked~div.sk-toggleable__content {max-height: 200px;max-width: 100%;overflow: auto;}#sk-4da34bbb-7dfa-4ee4-990b-3e50364ea6ce input.sk-toggleable__control:checked~label.sk-toggleable__label-arrow:before {content: \"▾\";}#sk-4da34bbb-7dfa-4ee4-990b-3e50364ea6ce div.sk-estimator input.sk-toggleable__control:checked~label.sk-toggleable__label {background-color: #d4ebff;}#sk-4da34bbb-7dfa-4ee4-990b-3e50364ea6ce div.sk-label input.sk-toggleable__control:checked~label.sk-toggleable__label {background-color: #d4ebff;}#sk-4da34bbb-7dfa-4ee4-990b-3e50364ea6ce input.sk-hidden--visually {border: 0;clip: rect(1px 1px 1px 1px);clip: rect(1px, 1px, 1px, 1px);height: 1px;margin: -1px;overflow: hidden;padding: 0;position: absolute;width: 1px;}#sk-4da34bbb-7dfa-4ee4-990b-3e50364ea6ce div.sk-estimator {font-family: monospace;background-color: #f0f8ff;border: 1px dotted black;border-radius: 0.25em;box-sizing: border-box;margin-bottom: 0.5em;}#sk-4da34bbb-7dfa-4ee4-990b-3e50364ea6ce div.sk-estimator:hover {background-color: #d4ebff;}#sk-4da34bbb-7dfa-4ee4-990b-3e50364ea6ce div.sk-parallel-item::after {content: \"\";width: 100%;border-bottom: 1px solid gray;flex-grow: 1;}#sk-4da34bbb-7dfa-4ee4-990b-3e50364ea6ce div.sk-label:hover label.sk-toggleable__label {background-color: #d4ebff;}#sk-4da34bbb-7dfa-4ee4-990b-3e50364ea6ce div.sk-serial::before {content: \"\";position: absolute;border-left: 1px solid gray;box-sizing: border-box;top: 2em;bottom: 0;left: 50%;}#sk-4da34bbb-7dfa-4ee4-990b-3e50364ea6ce div.sk-serial {display: flex;flex-direction: column;align-items: center;background-color: white;padding-right: 0.2em;padding-left: 0.2em;}#sk-4da34bbb-7dfa-4ee4-990b-3e50364ea6ce div.sk-item {z-index: 1;}#sk-4da34bbb-7dfa-4ee4-990b-3e50364ea6ce div.sk-parallel {display: flex;align-items: stretch;justify-content: center;background-color: white;}#sk-4da34bbb-7dfa-4ee4-990b-3e50364ea6ce div.sk-parallel::before {content: \"\";position: absolute;border-left: 1px solid gray;box-sizing: border-box;top: 2em;bottom: 0;left: 50%;}#sk-4da34bbb-7dfa-4ee4-990b-3e50364ea6ce div.sk-parallel-item {display: flex;flex-direction: column;position: relative;background-color: white;}#sk-4da34bbb-7dfa-4ee4-990b-3e50364ea6ce div.sk-parallel-item:first-child::after {align-self: flex-end;width: 50%;}#sk-4da34bbb-7dfa-4ee4-990b-3e50364ea6ce div.sk-parallel-item:last-child::after {align-self: flex-start;width: 50%;}#sk-4da34bbb-7dfa-4ee4-990b-3e50364ea6ce div.sk-parallel-item:only-child::after {width: 0;}#sk-4da34bbb-7dfa-4ee4-990b-3e50364ea6ce div.sk-dashed-wrapped {border: 1px dashed gray;margin: 0 0.4em 0.5em 0.4em;box-sizing: border-box;padding-bottom: 0.4em;background-color: white;position: relative;}#sk-4da34bbb-7dfa-4ee4-990b-3e50364ea6ce div.sk-label label {font-family: monospace;font-weight: bold;background-color: white;display: inline-block;line-height: 1.2em;}#sk-4da34bbb-7dfa-4ee4-990b-3e50364ea6ce div.sk-label-container {position: relative;z-index: 2;text-align: center;}#sk-4da34bbb-7dfa-4ee4-990b-3e50364ea6ce div.sk-container {/* jupyter's `normalize.less` sets `[hidden] { display: none; }` but bootstrap.min.css set `[hidden] { display: none !important; }` so we also need the `!important` here to be able to override the default hidden behavior on the sphinx rendered scikit-learn.org. See: https://github.com/scikit-learn/scikit-learn/issues/21755 */display: inline-block !important;position: relative;}#sk-4da34bbb-7dfa-4ee4-990b-3e50364ea6ce div.sk-text-repr-fallback {display: none;}</style><div id=\"sk-4da34bbb-7dfa-4ee4-990b-3e50364ea6ce\" class=\"sk-top-container\"><div class=\"sk-text-repr-fallback\"><pre>Pipeline(steps=[(&#x27;standardscaler&#x27;, StandardScaler()),\n",
              "                (&#x27;randomforestclassifier&#x27;,\n",
              "                 RandomForestClassifier(max_depth=10, random_state=42))])</pre><b>Please rerun this cell to show the HTML repr or trust the notebook.</b></div><div class=\"sk-container\" hidden><div class=\"sk-item sk-dashed-wrapped\"><div class=\"sk-label-container\"><div class=\"sk-label sk-toggleable\"><input class=\"sk-toggleable__control sk-hidden--visually\" id=\"c280e195-ddba-49cf-9106-d5bc15d960c9\" type=\"checkbox\" ><label for=\"c280e195-ddba-49cf-9106-d5bc15d960c9\" class=\"sk-toggleable__label sk-toggleable__label-arrow\">Pipeline</label><div class=\"sk-toggleable__content\"><pre>Pipeline(steps=[(&#x27;standardscaler&#x27;, StandardScaler()),\n",
              "                (&#x27;randomforestclassifier&#x27;,\n",
              "                 RandomForestClassifier(max_depth=10, random_state=42))])</pre></div></div></div><div class=\"sk-serial\"><div class=\"sk-item\"><div class=\"sk-estimator sk-toggleable\"><input class=\"sk-toggleable__control sk-hidden--visually\" id=\"fac1104a-e6d3-43b7-9121-b685431eadc4\" type=\"checkbox\" ><label for=\"fac1104a-e6d3-43b7-9121-b685431eadc4\" class=\"sk-toggleable__label sk-toggleable__label-arrow\">StandardScaler</label><div class=\"sk-toggleable__content\"><pre>StandardScaler()</pre></div></div></div><div class=\"sk-item\"><div class=\"sk-estimator sk-toggleable\"><input class=\"sk-toggleable__control sk-hidden--visually\" id=\"dfc8a84f-4037-4e16-8f0c-345ce158b84b\" type=\"checkbox\" ><label for=\"dfc8a84f-4037-4e16-8f0c-345ce158b84b\" class=\"sk-toggleable__label sk-toggleable__label-arrow\">RandomForestClassifier</label><div class=\"sk-toggleable__content\"><pre>RandomForestClassifier(max_depth=10, random_state=42)</pre></div></div></div></div></div></div></div>"
            ]
          },
          "metadata": {},
          "execution_count": 64
        }
      ]
    },
    {
      "cell_type": "code",
      "source": [
        "# Obtain Predictions\n",
        "test_preds_rf1 = rf_pipeline_1.predict(X_test_rf)\n",
        "\n",
        "# Calculate Accuracy Score\n",
        "accuracy_rf1 = accuracy_score(y_test_rf, test_preds_rf1)\n",
        "accuracy_rf1 = round(accuracy_rf1, 4)\n",
        "\n",
        "# Calculate Recall Score\n",
        "recall_rf1 = metrics.recall_score(y_test_rf, test_preds_rf1)\n",
        "recall_rf1 = round(recall_rf, 4)\n",
        "\n",
        "# calculate Classification Accuracy - Default\n",
        "score_rf1 = rf_pipeline_1.score(X_test_rf, y_test_rf);\n",
        "score_rf1 = round(score_rf1, 4);\n",
        "\n",
        "print('The Random Forest Accuracy Score is', accuracy_rf1)\n",
        "print('The Random Forest Recall Score is', recall_rf1)\n",
        "print('The Default Random Forest Classification Accuracy is', score_rf1);"
      ],
      "metadata": {
        "colab": {
          "base_uri": "https://localhost:8080/"
        },
        "id": "MvnRS4RJWGbC",
        "outputId": "55141fbb-3446-41a0-f6d2-29b5a3016a03"
      },
      "execution_count": null,
      "outputs": [
        {
          "output_type": "stream",
          "name": "stdout",
          "text": [
            "The Random Forest Accuracy Score is 0.9577\n",
            "The Random Forest Recall Score is 0.9286\n",
            "The Default Random Forest Classification Accuracy is 0.9577\n"
          ]
        }
      ]
    },
    {
      "cell_type": "markdown",
      "source": [
        "###### Confusion Matrix"
      ],
      "metadata": {
        "id": "7k5ly8x0Wjdm"
      }
    },
    {
      "cell_type": "code",
      "source": [
        "# Confusion Matrix for Tuned Random Forest\n",
        "\n",
        "plot_confusion_matrix(rf_pipeline_1, X_test_rf, y_test_rf, cmap = 'Blues');"
      ],
      "metadata": {
        "colab": {
          "base_uri": "https://localhost:8080/",
          "height": 334
        },
        "id": "PJ5R55HMWhEk",
        "outputId": "3a095bc5-398e-46d7-e015-edb5cf82b47e"
      },
      "execution_count": null,
      "outputs": [
        {
          "output_type": "stream",
          "name": "stderr",
          "text": [
            "/usr/local/lib/python3.7/dist-packages/sklearn/utils/deprecation.py:87: FutureWarning: Function plot_confusion_matrix is deprecated; Function `plot_confusion_matrix` is deprecated in 1.0 and will be removed in 1.2. Use one of the class methods: ConfusionMatrixDisplay.from_predictions or ConfusionMatrixDisplay.from_estimator.\n",
            "  warnings.warn(msg, category=FutureWarning)\n"
          ]
        },
        {
          "output_type": "display_data",
          "data": {
            "text/plain": [
              "<Figure size 432x288 with 2 Axes>"
            ],
            "image/png": "[encoded data removed]"
          },
          "metadata": {
            "needs_background": "light"
          }
        }
      ]
    },
    {
      "cell_type": "code",
      "source": [
        "# KNN at Max_Depth = 10 \n",
        "\n",
        "cm_rf_1 = metrics.confusion_matrix(y_test_rf.values, test_preds_rf1)\n",
        "tn_rf1, fp_rf1, fn_rf1, tp_rf1 = cm_rf_1.ravel()\n",
        "\n",
        "print('Tn is ',tn_rf1, '= True Negative for Random Forest Model')\n",
        "print('\\n')\n",
        "print('Fp is ',fp_rf1, '= False Positive for Random Forest Model')\n",
        "print('\\n')\n",
        "print('Fn is ',fn_rf1, '= False Negative for Random Forest Model')\n",
        "print('\\n')\n",
        "print('Tp is ',tp_rf1, '= True Positive for Random Forest Model')"
      ],
      "metadata": {
        "colab": {
          "base_uri": "https://localhost:8080/"
        },
        "id": "gCCqzeSEXa2g",
        "outputId": "7e491dfe-3272-4fce-b6bc-04d2db4c24a4"
      },
      "execution_count": null,
      "outputs": [
        {
          "output_type": "stream",
          "name": "stdout",
          "text": [
            "Tn is  29 = True Negative for Random Forest Model\n",
            "\n",
            "\n",
            "Fp is  0 = False Positive for Random Forest Model\n",
            "\n",
            "\n",
            "Fn is  3 = False Negative for Random Forest Model\n",
            "\n",
            "\n",
            "Tp is  39 = True Positive for Random Forest Model\n"
          ]
        }
      ]
    },
    {
      "cell_type": "markdown",
      "source": [
        "###### Sensitivity vs Specificity"
      ],
      "metadata": {
        "id": "msZ6KYtkXHZz"
      }
    },
    {
      "cell_type": "code",
      "source": [
        "# Sensitivity\n",
        "sensitivity_rf_1 = tp_rf1 / (tp_rf1 + fn_rf1)\n",
        "sensitivity_rf_1 = round(sensitivity_rf_1, 4);\n",
        "\n",
        "#Specificity\n",
        "specificity_rf_1 = tn_rf1 / (tn_rf1 + fp_rf1)\n",
        "specificity_rf_1 = round(specificity_rf_1, 4);\n",
        "\n",
        "print('Sensitivity is ',sensitivity_rf_1, 'for Tuned Random Forest Model')\n",
        "print('\\n')\n",
        "print('Specificity is ',specificity_rf_1, 'for Tuned Random Forest Model')"
      ],
      "metadata": {
        "colab": {
          "base_uri": "https://localhost:8080/"
        },
        "id": "BV4pt6MiWxOK",
        "outputId": "92a29b8e-ebe7-4d40-cfd6-0ac718ee2a7d"
      },
      "execution_count": null,
      "outputs": [
        {
          "output_type": "stream",
          "name": "stdout",
          "text": [
            "Sensitivity is  0.9286 for Tuned Random Forest Model\n",
            "\n",
            "\n",
            "Specificity is  1.0 for Tuned Random Forest Model\n"
          ]
        }
      ]
    },
    {
      "cell_type": "markdown",
      "source": [
        "##### Final Model - Random Forest - Default Hyperparameters\n",
        "\n",
        "The Final model that is appropriate for this data set will be Random Forest with default hyperparameters. \n",
        "\n",
        "\n",
        "---\n",
        "\n",
        "\n",
        "Since this data set is related to the medical field, it is important to achieve high sensitivity. The sensitivity of the default Random Forest Model is higher compared to the default KNN Model. \n",
        "\n",
        "\n",
        "---\n",
        "\n",
        "\n",
        "Therefore, the approriate model for this data set is the ***Random Forest Classifier using default hyperparameters. ***"
      ],
      "metadata": {
        "id": "gwpGr6CIf9Qc"
      }
    },
    {
      "cell_type": "code",
      "source": [
        "# Comparing Sensitivities of Default KNN and Default Random Foreset\n",
        "\n",
        "print('Sensitivity is ',sensitivity_knn, 'for KNN Model')\n",
        "print('Specificity is ',specificity_knn, 'for KNN Model')\n",
        "print('\\n')\n",
        "print('Sensitivity is ',sensitivity_rf, 'for Random Forest Model')\n",
        "print('Specificity is ',specificity_rf, 'for Random Forest Model')\n",
        "print('\\n')\n",
        "print('Sensitivity is ',sensitivity_knn_1, 'for Tuned KNN Model')\n",
        "print('Specificity is ',specificity_knn_1, 'for Tuned KNN Model')\n",
        "print('\\n')\n",
        "print('Sensitivity is ',sensitivity_rf_1, 'for Tuned Random Forest Model')\n",
        "print('Specificity is ',specificity_rf_1, 'for Tuned Random Forest Model')"
      ],
      "metadata": {
        "colab": {
          "base_uri": "https://localhost:8080/"
        },
        "id": "WPXdLan9gtrw",
        "outputId": "e691e315-35f4-40b6-c84f-951111d40460"
      },
      "execution_count": null,
      "outputs": [
        {
          "output_type": "stream",
          "name": "stdout",
          "text": [
            "Sensitivity is  0.8571 for KNN Model\n",
            "Specificity is  1.0 for KNN Model\n",
            "\n",
            "\n",
            "Sensitivity is  0.9286 for Random Forest Model\n",
            "Specificity is  1.0 for Random Forest Model\n",
            "\n",
            "\n",
            "Sensitivity is  0.8333 for Tuned KNN Model\n",
            "Specificity is  1.0 for Tuned KNN Model\n",
            "\n",
            "\n",
            "Sensitivity is  0.9286 for Tuned Random Forest Model\n",
            "Specificity is  1.0 for Tuned Random Forest Model\n"
          ]
        }
      ]
    }
  ]
}